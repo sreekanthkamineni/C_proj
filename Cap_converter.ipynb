{
 "cells": [
  {
   "cell_type": "code",
   "execution_count": 2,
   "metadata": {},
   "outputs": [],
   "source": [
    "import json"
   ]
  },
  {
   "cell_type": "code",
   "execution_count": 3,
   "metadata": {},
   "outputs": [],
   "source": [
    "import pandas as pd"
   ]
  },
  {
   "cell_type": "code",
   "execution_count": 4,
   "metadata": {},
   "outputs": [],
   "source": [
    "from pandas.io.json import json_normalize"
   ]
  },
  {
   "cell_type": "code",
   "execution_count": 5,
   "metadata": {},
   "outputs": [],
   "source": [
    "data = json.load(open('jason_Cap.json'))"
   ]
  },
  {
   "cell_type": "code",
   "execution_count": 6,
   "metadata": {
    "scrolled": true
   },
   "outputs": [
    {
     "ename": "TypeError",
     "evalue": "__init__() got an unexpected keyword argument 'seperator'",
     "output_type": "error",
     "traceback": [
      "\u001b[1;31m---------------------------------------------------------------------------\u001b[0m",
      "\u001b[1;31mTypeError\u001b[0m                                 Traceback (most recent call last)",
      "\u001b[1;32m<ipython-input-6-725387c3f97e>\u001b[0m in \u001b[0;36m<module>\u001b[1;34m\u001b[0m\n\u001b[1;32m----> 1\u001b[1;33m \u001b[0mdata_serialized\u001b[0m \u001b[1;33m=\u001b[0m \u001b[0mjson\u001b[0m\u001b[1;33m.\u001b[0m\u001b[0mdump\u001b[0m\u001b[1;33m(\u001b[0m\u001b[0mdata\u001b[0m\u001b[1;33m,\u001b[0m \u001b[0mopen\u001b[0m\u001b[1;33m(\u001b[0m\u001b[1;34m'data.json'\u001b[0m\u001b[1;33m,\u001b[0m \u001b[1;34m\"w\"\u001b[0m\u001b[1;33m)\u001b[0m\u001b[1;33m,\u001b[0m \u001b[0mseperator\u001b[0m \u001b[1;33m=\u001b[0m \u001b[1;33m(\u001b[0m\u001b[1;34m':'\u001b[0m\u001b[1;33m)\u001b[0m\u001b[1;33m)\u001b[0m\u001b[1;33m\u001b[0m\u001b[1;33m\u001b[0m\u001b[0m\n\u001b[0m",
      "\u001b[1;32m~\\anaconda3\\lib\\json\\__init__.py\u001b[0m in \u001b[0;36mdump\u001b[1;34m(obj, fp, skipkeys, ensure_ascii, check_circular, allow_nan, cls, indent, separators, default, sort_keys, **kw)\u001b[0m\n\u001b[0;32m    174\u001b[0m             \u001b[0mcheck_circular\u001b[0m\u001b[1;33m=\u001b[0m\u001b[0mcheck_circular\u001b[0m\u001b[1;33m,\u001b[0m \u001b[0mallow_nan\u001b[0m\u001b[1;33m=\u001b[0m\u001b[0mallow_nan\u001b[0m\u001b[1;33m,\u001b[0m \u001b[0mindent\u001b[0m\u001b[1;33m=\u001b[0m\u001b[0mindent\u001b[0m\u001b[1;33m,\u001b[0m\u001b[1;33m\u001b[0m\u001b[1;33m\u001b[0m\u001b[0m\n\u001b[0;32m    175\u001b[0m             \u001b[0mseparators\u001b[0m\u001b[1;33m=\u001b[0m\u001b[0mseparators\u001b[0m\u001b[1;33m,\u001b[0m\u001b[1;33m\u001b[0m\u001b[1;33m\u001b[0m\u001b[0m\n\u001b[1;32m--> 176\u001b[1;33m             default=default, sort_keys=sort_keys, **kw).iterencode(obj)\n\u001b[0m\u001b[0;32m    177\u001b[0m     \u001b[1;31m# could accelerate with writelines in some versions of Python, at\u001b[0m\u001b[1;33m\u001b[0m\u001b[1;33m\u001b[0m\u001b[1;33m\u001b[0m\u001b[0m\n\u001b[0;32m    178\u001b[0m     \u001b[1;31m# a debuggability cost\u001b[0m\u001b[1;33m\u001b[0m\u001b[1;33m\u001b[0m\u001b[1;33m\u001b[0m\u001b[0m\n",
      "\u001b[1;31mTypeError\u001b[0m: __init__() got an unexpected keyword argument 'seperator'"
     ]
    }
   ],
   "source": [
    "data_serialized = json.dump(data, open('data.json', \"w\"), seperator = (':'))"
   ]
  },
  {
   "cell_type": "code",
   "execution_count": 7,
   "metadata": {},
   "outputs": [
    {
     "ename": "NameError",
     "evalue": "name 'data_serialized' is not defined",
     "output_type": "error",
     "traceback": [
      "\u001b[1;31m---------------------------------------------------------------------------\u001b[0m",
      "\u001b[1;31mNameError\u001b[0m                                 Traceback (most recent call last)",
      "\u001b[1;32m<ipython-input-7-7a8ca573ba8c>\u001b[0m in \u001b[0;36m<module>\u001b[1;34m\u001b[0m\n\u001b[1;32m----> 1\u001b[1;33m \u001b[0mprint\u001b[0m\u001b[1;33m(\u001b[0m\u001b[0mtype\u001b[0m\u001b[1;33m(\u001b[0m\u001b[0mdata_serialized\u001b[0m\u001b[1;33m)\u001b[0m\u001b[1;33m)\u001b[0m\u001b[1;33m\u001b[0m\u001b[1;33m\u001b[0m\u001b[0m\n\u001b[0m",
      "\u001b[1;31mNameError\u001b[0m: name 'data_serialized' is not defined"
     ]
    }
   ],
   "source": [
    "print(type(data_serialized))"
   ]
  },
  {
   "cell_type": "code",
   "execution_count": 8,
   "metadata": {
    "scrolled": true
   },
   "outputs": [
    {
     "name": "stdout",
     "output_type": "stream",
     "text": [
      "{'ECIF2106147717': {'Address': [{'PostalAddress': {'PostalCode': 'A2H 1E4', 'City': 'CORNER BROOK', 'Province': 'NL'}}], 'ECIFID': '2106147717', 'TotalHHIncomeYrly': 84000.0, 'SaveAcctRef': '', 'CNW': {'IncomeList': [{'BizBankAcctRef': '', 'BusinessType': '', 'LengthOfEmp': '0705'}]}, 'EnrichedData': {'UpdateDate': '', 'PhoneNumber': '', 'CustomerType': 'P'}, 'TotalMthlyExpenses': 242, 'CBR': {'OutputFormatCode': 'E', 'DepositAlertFlag': 'N', 'SegmentID': 'FULL', 'DateReported': '20200206', 'SafeScanCode2': '', 'TradeDetails': [{'DateOpened': '20120201', 'AutoDataInd': '', 'MonthPastDue': '00', 'DateReported': '20200101', 'SegmentID': 'TC', 'NoOfMthsReviewed': '01', 'Terms': '0066', 'ThreeMonthsPastDue': '00', 'NarrativeCode': ['EX', 'AZ'], 'PastDueAmount': '0', 'AccountType': 'R', 'DateLastActivity': '20200201', 'AccountNumber': '745238675880885', 'pyID': 'TD8', 'ForeignBureauCode': '', 'TradeBalance': '0120', 'RateCode': [{'Rating': '1'}], 'Phone': {'Extension': '', 'AreaCode': 888, 'PhoneNumber': '3316133'}, 'AcctDesignatorCode': 'I', 'MemberName': 'DUO BANK', 'TwoMonthsPastDue': '00', 'MemberCode': '650ON42592', 'HighCredit': '20000'}, {'DateOpened': '20080201', 'AutoDataInd': '', 'MonthPastDue': '00', 'DateReported': '20200101', 'SegmentID': 'TC', 'NoOfMthsReviewed': '01', 'Terms': '0066', 'ThreeMonthsPastDue': '00', 'NarrativeCode': ['EX', 'AZ'], 'PastDueAmount': '0', 'AccountType': 'R', 'DateLastActivity': '20200201', 'AccountNumber': '745238610000885', 'pyID': 'TD11', 'ForeignBureauCode': '', 'TradeBalance': '0120', 'RateCode': [{'Rating': '1'}], 'Phone': {'Extension': '', 'AreaCode': 888, 'PhoneNumber': '3316133'}, 'AcctDesignatorCode': 'I', 'MemberName': 'DUO BANK', 'TwoMonthsPastDue': '00', 'MemberCode': '650ON42592', 'HighCredit': '20000'}, {'DateOpened': '20160101', 'AutoDataInd': '', 'MonthPastDue': '00', 'DateReported': '20190201', 'SegmentID': 'TC', 'NoOfMthsReviewed': '', 'Terms': '2243', 'ThreeMonthsPastDue': '00', 'NarrativeCode': ['EX', 'AZ'], 'PastDueAmount': '0', 'AccountType': 'R', 'DateLastActivity': '20170101', 'AccountNumber': '588000016832547', 'pyID': 'TD1', 'ForeignBureauCode': '', 'TradeBalance': '3239', 'RateCode': [{'Rating': '9'}], 'Phone': {'Extension': '', 'AreaCode': 0, 'PhoneNumber': ''}, 'AcctDesignatorCode': 'I', 'MemberName': 'CIBC CARD SERVICES', 'TwoMonthsPastDue': '00', 'MemberCode': '650ON00598', 'HighCredit': '1243'}, {'DateOpened': '20190201', 'AutoDataInd': '', 'MonthPastDue': '00', 'DateReported': '20191101', 'SegmentID': 'TC', 'NoOfMthsReviewed': '01', 'Terms': '0302', 'ThreeMonthsPastDue': '01', 'NarrativeCode': ['EX', 'AZ'], 'PastDueAmount': '0', 'AccountType': 'R', 'DateLastActivity': '20191001', 'AccountNumber': '1231320230123', 'pyID': 'TD5', 'ForeignBureauCode': '', 'TradeBalance': '0202', 'RateCode': [{'Rating': '4'}], 'Phone': {'Extension': '', 'AreaCode': 800, 'PhoneNumber': '2672482'}, 'AcctDesignatorCode': 'I', 'MemberName': 'TOTAL CREDIT RECOVER', 'TwoMonthsPastDue': '00', 'MemberCode': '481YC00382', 'HighCredit': '5002'}], 'MonthsToCountMaxDel': '', 'Inquiries': [{'pyID': 'IQ5', 'NameOfMember': 'BIZ2CREDIT INC.', 'SegmentID': 'IQ', 'Phone': {'Extension': '', 'AreaCode': 212, 'PhoneNumber': '6444555'}, 'DateOfInquiry': '20191002', 'MemberCode': '999ZZ02356'}, {'pyID': 'IQ8', 'NameOfMember': 'ROUTEONE LLC', 'SegmentID': 'IQ', 'Phone': {'Extension': '', 'AreaCode': 248, 'PhoneNumber': '4557075'}, 'DateOfInquiry': '20190901', 'MemberCode': '999ZZ01762'}, {'pyID': 'IQ14', 'NameOfMember': 'NOVA CREDIT INC', 'SegmentID': 'IQ', 'Phone': {'Extension': '', 'AreaCode': 844, 'PhoneNumber': '4231345'}, 'DateOfInquiry': '20190801', 'MemberCode': '999ZZ01564'}], 'InFileSince': '20191114', 'CreditFileWarning': '', 'ConsumerReferralCode': '190', 'SegmentCounters': '01000000000001000000000002000100000000000000040000000000030002', 'CBScore': [{'CBReasonCode': [{'ReasonCode': '38'}, {'ReasonCode': '13'}, {'ReasonCode': '02'}, {'ReasonCode': '20'}], 'Score': '00600', 'ProductCode': 'BN', 'SegmentID': 'BS', 'RejectMsgCode': ''}, {'CBReasonCode': [{'ReasonCode': '03'}, {'ReasonCode': '77'}, {'ReasonCode': '56'}, {'ReasonCode': 'S0'}], 'Score': '00865', 'ProductCode': 'BI', 'SegmentID': 'BS', 'RejectMsgCode': ''}], 'ProductHeader': {'ProductCode': ''}, 'LanguageInd': 'E', 'MonthsToCountInquiry': '', 'SafeScanCode': '0', 'CBRProvider': 'EQ', 'TransactionControl': {'TransactionTime': '', 'pyCountry': '', 'LanguageInd': '', 'IndustryCode': '', 'BureauMarket': '', 'ReferenceNum': '', 'BureauSubmarket': '', 'VersionSwitch': '', 'MemberCode': '', 'TransactionDate': ''}, 'MemberCode': '999BB01335', 'Bankruptcy': [{'CourtName': 'OFF SUP BKRPT', 'CourtNumber': '473VS00181', 'SegmentID': 'BP', 'NarrativeCode': ['', ''], 'DateFiled': '20191201', 'TypeOfBankruptcy': 'I', 'DateSettled': '', 'pyID': 'BP10', 'ForeignBureauCode': '', 'AssetsValue': '03000', 'LiabilityAmount': '08000', 'CaseNumber': 'ROSEHIPS AND MINT TRUSTEES', 'HowFiled': 'S', 'DispositionCode': 'B'}, {'CourtName': 'OFF SUP BKRPT', 'CourtNumber': '473VS00181', 'SegmentID': 'BP', 'NarrativeCode': ['', ''], 'DateFiled': '20170501', 'TypeOfBankruptcy': 'I', 'DateSettled': '', 'pyID': 'BP13', 'ForeignBureauCode': '', 'AssetsValue': '03000', 'LiabilityAmount': '08000', 'CaseNumber': 'BUBBLEGUM PARFAIT', 'HowFiled': 'S', 'DispositionCode': 'B'}], 'NumOfDependents': '', 'ReferenceNumber': 'BNISFN', 'HitOrNoHit': '1', 'CBRClientDetails': {'DateOfBirth': '19470420', 'pyNameSuffix': '', 'pyFirstName': 'JALISA', 'Address': [{'PostalAddress': {'IndCode': 'C', 'RentOwnBoard': '', 'StreetNumber': '35', 'Street': '35 HUMBER RD', 'PostalCode': 'A2H1E4', 'City': 'CRBK', 'Province': 'NL'}, 'SegmentID': 'CA', 'PostalAddressDemographic': {'MovedInDate': '20200201'}}], 'pySSN': '', 'SpouseInfo': {'pyFirstName': '', 'pySSN': ''}, 'MiddleName': '', 'pyLastName': 'TESTALBRITTON'}, 'DateLastActivity': '20200128', 'OtherSubjectInfo': {'EmploymentInfo': [{'CompanyName': '', 'VerificationStatus': '', 'Salary': '', 'DateReported': '', 'SegmentID': 'ES', 'EmpStDate': '', 'EmpEndDate': '', 'OccupationID': 'STS TEST', 'CompanyAddressInfo': {'PostalAddress': {'City': '', 'Province': ''}}}]}, 'NumOfInquiries': '', 'MaritalStatus': 'N', 'ECOAInquiryType': 'I', 'RetrievalTimeStamp': '20200206T130438.000 GMT', 'SecuredLoan': [{'pyID': 'SL3', 'ForeignBureauCode': '', 'CourtName': 'METCREDIT 8887977727', 'CourtNumber': '650YC00066', 'IndustryCode': 'FM', 'SegmentID': 'FM', 'NarrativeCode': ['', ''], 'MaturityDate': '20180401', 'CredNameAddrAmt': 'R U BIXCUBE GEOMETRY SERVICES', 'DateFiled': '20180601'}], 'MultipleFileInd': '0', 'CardAlertFlag': ''}, 'TotalHHIncomeMthly': 7000.0, 'IncomeReviewIndicator': None, 'AnalyticProfile': {'TotalNoRSMProdSvcs': None, 'RBSSResponseCode': '200.00000', 'PBISIndicator': '', 'TRIScore': None, 'VIPCCIndicator': '', 'CustomerNet1stAccPeriod': 0, 'SecurityIndicator': ''}, 'ChannelList': [{'VendorId': 'P'}], 'DateOfBirth': '19470420', 'FirstServiceDate': '20170929', 'OccCombCode': '0163', 'SpouseHHIncomeMthly': 4000.0, 'pySSN': '765456637', 'IsSelfEmployed': 'N', 'Duration': '0709', 'TotalPerIncomeMthly': 3000.0, 'OtherIncome': 4000.0, 'CheqAcctRef': '', 'ResidentialStatus': 'O', 'TotalMthlyLiabAmt': None, 'ServicedByIndicator': '0', 'pxSubscript': 'ECIF2106147717', 'SpouseHHIncomeYrly': 48000}}\n"
     ]
    }
   ],
   "source": [
    "print(data['ClientDetails'])"
   ]
  },
  {
   "cell_type": "code",
   "execution_count": 9,
   "metadata": {},
   "outputs": [
    {
     "name": "stderr",
     "output_type": "stream",
     "text": [
      "C:\\Users\\sreek\\anaconda3\\lib\\site-packages\\ipykernel_launcher.py:1: FutureWarning: pandas.io.json.json_normalize is deprecated, use pandas.json_normalize instead\n",
      "  \"\"\"Entry point for launching an IPython kernel.\n"
     ]
    }
   ],
   "source": [
    "dt = json_normalize(data['Product'])"
   ]
  },
  {
   "cell_type": "code",
   "execution_count": 10,
   "metadata": {},
   "outputs": [
    {
     "name": "stdout",
     "output_type": "stream",
     "text": [
      "            PropID ProductCodeType  RPOCSequenceID ProductCode IsPreApproved  \\\n",
      "0  500000000530297              VA               1        VWVA                 \n",
      "\n",
      "  StrategyID          CaseID RequestedLimit AlternativeFeeIndicator  \\\n",
      "0             SO-20020680007           None                       N   \n",
      "\n",
      "  ProductCodeInd CardsSrcCode TreatmentID VendorRefNo  \n",
      "0             VW         None           1   610000000  \n"
     ]
    }
   ],
   "source": [
    "print(dt)"
   ]
  },
  {
   "cell_type": "code",
   "execution_count": 11,
   "metadata": {},
   "outputs": [],
   "source": [
    "dtt = pd.DataFrame(dt)"
   ]
  },
  {
   "cell_type": "code",
   "execution_count": 12,
   "metadata": {},
   "outputs": [
    {
     "data": {
      "text/html": [
       "<div>\n",
       "<style scoped>\n",
       "    .dataframe tbody tr th:only-of-type {\n",
       "        vertical-align: middle;\n",
       "    }\n",
       "\n",
       "    .dataframe tbody tr th {\n",
       "        vertical-align: top;\n",
       "    }\n",
       "\n",
       "    .dataframe thead th {\n",
       "        text-align: right;\n",
       "    }\n",
       "</style>\n",
       "<table border=\"1\" class=\"dataframe\">\n",
       "  <thead>\n",
       "    <tr style=\"text-align: right;\">\n",
       "      <th></th>\n",
       "      <th>PropID</th>\n",
       "      <th>ProductCodeType</th>\n",
       "      <th>RPOCSequenceID</th>\n",
       "      <th>ProductCode</th>\n",
       "      <th>IsPreApproved</th>\n",
       "      <th>StrategyID</th>\n",
       "      <th>CaseID</th>\n",
       "      <th>RequestedLimit</th>\n",
       "      <th>AlternativeFeeIndicator</th>\n",
       "      <th>ProductCodeInd</th>\n",
       "      <th>CardsSrcCode</th>\n",
       "      <th>TreatmentID</th>\n",
       "      <th>VendorRefNo</th>\n",
       "    </tr>\n",
       "  </thead>\n",
       "  <tbody>\n",
       "    <tr>\n",
       "      <th>0</th>\n",
       "      <td>500000000530297</td>\n",
       "      <td>VA</td>\n",
       "      <td>1</td>\n",
       "      <td>VWVA</td>\n",
       "      <td></td>\n",
       "      <td></td>\n",
       "      <td>SO-20020680007</td>\n",
       "      <td>None</td>\n",
       "      <td>N</td>\n",
       "      <td>VW</td>\n",
       "      <td>None</td>\n",
       "      <td>1</td>\n",
       "      <td>610000000</td>\n",
       "    </tr>\n",
       "  </tbody>\n",
       "</table>\n",
       "</div>"
      ],
      "text/plain": [
       "            PropID ProductCodeType  RPOCSequenceID ProductCode IsPreApproved  \\\n",
       "0  500000000530297              VA               1        VWVA                 \n",
       "\n",
       "  StrategyID          CaseID RequestedLimit AlternativeFeeIndicator  \\\n",
       "0             SO-20020680007           None                       N   \n",
       "\n",
       "  ProductCodeInd CardsSrcCode TreatmentID VendorRefNo  \n",
       "0             VW         None           1   610000000  "
      ]
     },
     "execution_count": 12,
     "metadata": {},
     "output_type": "execute_result"
    }
   ],
   "source": [
    "dtt.head(1)"
   ]
  },
  {
   "cell_type": "code",
   "execution_count": 13,
   "metadata": {},
   "outputs": [
    {
     "data": {
      "text/html": [
       "<div>\n",
       "<style scoped>\n",
       "    .dataframe tbody tr th:only-of-type {\n",
       "        vertical-align: middle;\n",
       "    }\n",
       "\n",
       "    .dataframe tbody tr th {\n",
       "        vertical-align: top;\n",
       "    }\n",
       "\n",
       "    .dataframe thead th {\n",
       "        text-align: right;\n",
       "    }\n",
       "</style>\n",
       "<table border=\"1\" class=\"dataframe\">\n",
       "  <thead>\n",
       "    <tr style=\"text-align: right;\">\n",
       "      <th></th>\n",
       "      <th>PropID</th>\n",
       "      <th>ProductCodeType</th>\n",
       "      <th>RPOCSequenceID</th>\n",
       "      <th>ProductCode</th>\n",
       "      <th>IsPreApproved</th>\n",
       "      <th>StrategyID</th>\n",
       "      <th>CaseID</th>\n",
       "      <th>RequestedLimit</th>\n",
       "      <th>AlternativeFeeIndicator</th>\n",
       "      <th>ProductCodeInd</th>\n",
       "      <th>CardsSrcCode</th>\n",
       "      <th>TreatmentID</th>\n",
       "      <th>VendorRefNo</th>\n",
       "    </tr>\n",
       "  </thead>\n",
       "  <tbody>\n",
       "    <tr>\n",
       "      <th>0</th>\n",
       "      <td>500000000530297</td>\n",
       "      <td>VA</td>\n",
       "      <td>1</td>\n",
       "      <td>VWVA</td>\n",
       "      <td></td>\n",
       "      <td></td>\n",
       "      <td>SO-20020680007</td>\n",
       "      <td>None</td>\n",
       "      <td>N</td>\n",
       "      <td>VW</td>\n",
       "      <td>None</td>\n",
       "      <td>1</td>\n",
       "      <td>610000000</td>\n",
       "    </tr>\n",
       "  </tbody>\n",
       "</table>\n",
       "</div>"
      ],
      "text/plain": [
       "            PropID ProductCodeType  RPOCSequenceID ProductCode IsPreApproved  \\\n",
       "0  500000000530297              VA               1        VWVA                 \n",
       "\n",
       "  StrategyID          CaseID RequestedLimit AlternativeFeeIndicator  \\\n",
       "0             SO-20020680007           None                       N   \n",
       "\n",
       "  ProductCodeInd CardsSrcCode TreatmentID VendorRefNo  \n",
       "0             VW         None           1   610000000  "
      ]
     },
     "execution_count": 13,
     "metadata": {},
     "output_type": "execute_result"
    }
   ],
   "source": [
    "dt.head(1)"
   ]
  },
  {
   "cell_type": "code",
   "execution_count": 14,
   "metadata": {},
   "outputs": [
    {
     "data": {
      "text/plain": [
       "pandas.core.frame.DataFrame"
      ]
     },
     "execution_count": 14,
     "metadata": {},
     "output_type": "execute_result"
    }
   ],
   "source": [
    "type(dt)"
   ]
  },
  {
   "cell_type": "code",
   "execution_count": 15,
   "metadata": {},
   "outputs": [
    {
     "name": "stderr",
     "output_type": "stream",
     "text": [
      "C:\\Users\\sreek\\anaconda3\\lib\\site-packages\\ipykernel_launcher.py:1: FutureWarning: pandas.io.json.json_normalize is deprecated, use pandas.json_normalize instead\n",
      "  \"\"\"Entry point for launching an IPython kernel.\n"
     ]
    }
   ],
   "source": [
    "ecif = json_normalize(data,'ClientDetails')"
   ]
  },
  {
   "cell_type": "code",
   "execution_count": 16,
   "metadata": {},
   "outputs": [
    {
     "name": "stdout",
     "output_type": "stream",
     "text": [
      "                0\n",
      "0  ECIF2106147717\n"
     ]
    }
   ],
   "source": [
    "print(ecif)"
   ]
  },
  {
   "cell_type": "code",
   "execution_count": 17,
   "metadata": {},
   "outputs": [
    {
     "ename": "AttributeError",
     "evalue": "'dict' object has no attribute 'ecif'",
     "output_type": "error",
     "traceback": [
      "\u001b[1;31m---------------------------------------------------------------------------\u001b[0m",
      "\u001b[1;31mAttributeError\u001b[0m                            Traceback (most recent call last)",
      "\u001b[1;32m<ipython-input-17-b55eddef02b1>\u001b[0m in \u001b[0;36m<module>\u001b[1;34m\u001b[0m\n\u001b[1;32m----> 1\u001b[1;33m \u001b[0mprint\u001b[0m\u001b[1;33m(\u001b[0m\u001b[0mdata\u001b[0m\u001b[1;33m[\u001b[0m\u001b[1;34m'ClientDetails'\u001b[0m\u001b[1;33m]\u001b[0m\u001b[1;33m.\u001b[0m\u001b[0mecif\u001b[0m\u001b[1;33m)\u001b[0m\u001b[1;33m\u001b[0m\u001b[1;33m\u001b[0m\u001b[0m\n\u001b[0m",
      "\u001b[1;31mAttributeError\u001b[0m: 'dict' object has no attribute 'ecif'"
     ]
    }
   ],
   "source": [
    "print(data['ClientDetails'].ecif)"
   ]
  },
  {
   "cell_type": "code",
   "execution_count": 18,
   "metadata": {},
   "outputs": [],
   "source": [
    "df = pd.DataFrame(data)"
   ]
  },
  {
   "cell_type": "code",
   "execution_count": 19,
   "metadata": {},
   "outputs": [
    {
     "data": {
      "text/html": [
       "<div>\n",
       "<style scoped>\n",
       "    .dataframe tbody tr th:only-of-type {\n",
       "        vertical-align: middle;\n",
       "    }\n",
       "\n",
       "    .dataframe tbody tr th {\n",
       "        vertical-align: top;\n",
       "    }\n",
       "\n",
       "    .dataframe thead th {\n",
       "        text-align: right;\n",
       "    }\n",
       "</style>\n",
       "<table border=\"1\" class=\"dataframe\">\n",
       "  <thead>\n",
       "    <tr style=\"text-align: right;\">\n",
       "      <th></th>\n",
       "      <th>ClientDetails</th>\n",
       "      <th>pyCreateDate</th>\n",
       "      <th>Product</th>\n",
       "      <th>ChannelType</th>\n",
       "    </tr>\n",
       "  </thead>\n",
       "  <tbody>\n",
       "    <tr>\n",
       "      <th>ECIF2106147717</th>\n",
       "      <td>{'Address': [{'PostalAddress': {'PostalCode': ...</td>\n",
       "      <td>20200206</td>\n",
       "      <td>NaN</td>\n",
       "      <td>B</td>\n",
       "    </tr>\n",
       "    <tr>\n",
       "      <th>PropID</th>\n",
       "      <td>NaN</td>\n",
       "      <td>20200206</td>\n",
       "      <td>500000000530297</td>\n",
       "      <td>B</td>\n",
       "    </tr>\n",
       "    <tr>\n",
       "      <th>ProductCodeType</th>\n",
       "      <td>NaN</td>\n",
       "      <td>20200206</td>\n",
       "      <td>VA</td>\n",
       "      <td>B</td>\n",
       "    </tr>\n",
       "    <tr>\n",
       "      <th>RPOCSequenceID</th>\n",
       "      <td>NaN</td>\n",
       "      <td>20200206</td>\n",
       "      <td>1</td>\n",
       "      <td>B</td>\n",
       "    </tr>\n",
       "    <tr>\n",
       "      <th>ProductCode</th>\n",
       "      <td>NaN</td>\n",
       "      <td>20200206</td>\n",
       "      <td>VWVA</td>\n",
       "      <td>B</td>\n",
       "    </tr>\n",
       "    <tr>\n",
       "      <th>IsPreApproved</th>\n",
       "      <td>NaN</td>\n",
       "      <td>20200206</td>\n",
       "      <td></td>\n",
       "      <td>B</td>\n",
       "    </tr>\n",
       "    <tr>\n",
       "      <th>StrategyID</th>\n",
       "      <td>NaN</td>\n",
       "      <td>20200206</td>\n",
       "      <td></td>\n",
       "      <td>B</td>\n",
       "    </tr>\n",
       "    <tr>\n",
       "      <th>CaseID</th>\n",
       "      <td>NaN</td>\n",
       "      <td>20200206</td>\n",
       "      <td>SO-20020680007</td>\n",
       "      <td>B</td>\n",
       "    </tr>\n",
       "    <tr>\n",
       "      <th>RequestedLimit</th>\n",
       "      <td>NaN</td>\n",
       "      <td>20200206</td>\n",
       "      <td>None</td>\n",
       "      <td>B</td>\n",
       "    </tr>\n",
       "    <tr>\n",
       "      <th>AlternativeFeeIndicator</th>\n",
       "      <td>NaN</td>\n",
       "      <td>20200206</td>\n",
       "      <td>N</td>\n",
       "      <td>B</td>\n",
       "    </tr>\n",
       "  </tbody>\n",
       "</table>\n",
       "</div>"
      ],
      "text/plain": [
       "                                                             ClientDetails  \\\n",
       "ECIF2106147717           {'Address': [{'PostalAddress': {'PostalCode': ...   \n",
       "PropID                                                                 NaN   \n",
       "ProductCodeType                                                        NaN   \n",
       "RPOCSequenceID                                                         NaN   \n",
       "ProductCode                                                            NaN   \n",
       "IsPreApproved                                                          NaN   \n",
       "StrategyID                                                             NaN   \n",
       "CaseID                                                                 NaN   \n",
       "RequestedLimit                                                         NaN   \n",
       "AlternativeFeeIndicator                                                NaN   \n",
       "\n",
       "                        pyCreateDate          Product ChannelType  \n",
       "ECIF2106147717              20200206              NaN           B  \n",
       "PropID                      20200206  500000000530297           B  \n",
       "ProductCodeType             20200206               VA           B  \n",
       "RPOCSequenceID              20200206                1           B  \n",
       "ProductCode                 20200206             VWVA           B  \n",
       "IsPreApproved               20200206                            B  \n",
       "StrategyID                  20200206                            B  \n",
       "CaseID                      20200206   SO-20020680007           B  \n",
       "RequestedLimit              20200206             None           B  \n",
       "AlternativeFeeIndicator     20200206                N           B  "
      ]
     },
     "execution_count": 19,
     "metadata": {},
     "output_type": "execute_result"
    }
   ],
   "source": [
    "df.head(10)"
   ]
  },
  {
   "cell_type": "code",
   "execution_count": 20,
   "metadata": {},
   "outputs": [
    {
     "name": "stderr",
     "output_type": "stream",
     "text": [
      "C:\\Users\\sreek\\anaconda3\\lib\\site-packages\\ipykernel_launcher.py:1: FutureWarning: pandas.io.json.json_normalize is deprecated, use pandas.json_normalize instead\n",
      "  \"\"\"Entry point for launching an IPython kernel.\n"
     ]
    }
   ],
   "source": [
    "address = json_normalize(df.iloc[0]['ClientDetails']['Address'][0]['PostalAddress'])"
   ]
  },
  {
   "cell_type": "code",
   "execution_count": 21,
   "metadata": {},
   "outputs": [
    {
     "name": "stdout",
     "output_type": "stream",
     "text": [
      "  PostalCode          City Province\n",
      "0    A2H 1E4  CORNER BROOK       NL\n"
     ]
    }
   ],
   "source": [
    "print(address.head(1))"
   ]
  },
  {
   "cell_type": "code",
   "execution_count": 66,
   "metadata": {},
   "outputs": [
    {
     "name": "stderr",
     "output_type": "stream",
     "text": [
      "C:\\Users\\sreek\\anaconda3\\lib\\site-packages\\ipykernel_launcher.py:1: FutureWarning: pandas.io.json.json_normalize is deprecated, use pandas.json_normalize instead\n",
      "  \"\"\"Entry point for launching an IPython kernel.\n"
     ]
    }
   ],
   "source": [
    "add =  json_normalize(df.iloc[0]['ClientDetails'])"
   ]
  },
  {
   "cell_type": "code",
   "execution_count": 67,
   "metadata": {},
   "outputs": [],
   "source": [
    "field_Main = ['ECIFID','TotalHHIncomeYrly','SaveAcctRef','TotalMthlyExpenses','TotalHHIncomeMthly','IncomeReviewIndicator','DateOfBirth','FirstServiceDate','OccCombCode','SpouseHHIncomeMthly','pySSN','IsSelfEmployed','Duration','TotalPerIncomeMthly','OtherIncome','CheqAcctRef','ResidentialStatus','TotalMthlyLiabAmt','ServicedByIndicator','pxSubscript','SpouseHHIncomeYrly']"
   ]
  },
  {
   "cell_type": "code",
   "execution_count": 68,
   "metadata": {},
   "outputs": [],
   "source": [
    "final = add[field_Main]"
   ]
  },
  {
   "cell_type": "code",
   "execution_count": 70,
   "metadata": {},
   "outputs": [],
   "source": [
    "final.to_excel(\"output.xlsx\",\n",
    "             sheet_name='primary')"
   ]
  },
  {
   "cell_type": "code",
   "execution_count": 51,
   "metadata": {},
   "outputs": [
    {
     "data": {
      "text/plain": [
       "pandas.core.frame.DataFrame"
      ]
     },
     "execution_count": 51,
     "metadata": {},
     "output_type": "execute_result"
    }
   ],
   "source": [
    "type(add)"
   ]
  },
  {
   "cell_type": "code",
   "execution_count": 40,
   "metadata": {},
   "outputs": [
    {
     "ename": "AttributeError",
     "evalue": "'DataFrame' object has no attribute 'CNW'",
     "output_type": "error",
     "traceback": [
      "\u001b[1;31m---------------------------------------------------------------------------\u001b[0m",
      "\u001b[1;31mAttributeError\u001b[0m                            Traceback (most recent call last)",
      "\u001b[1;32m<ipython-input-40-d9c76faa9d26>\u001b[0m in \u001b[0;36m<module>\u001b[1;34m\u001b[0m\n\u001b[1;32m----> 1\u001b[1;33m \u001b[0madd\u001b[0m\u001b[1;33m.\u001b[0m\u001b[0mCNW\u001b[0m\u001b[1;33m.\u001b[0m\u001b[0mIncomeList\u001b[0m\u001b[1;33m\u001b[0m\u001b[1;33m\u001b[0m\u001b[0m\n\u001b[0m",
      "\u001b[1;32m~\\anaconda3\\lib\\site-packages\\pandas\\core\\generic.py\u001b[0m in \u001b[0;36m__getattr__\u001b[1;34m(self, name)\u001b[0m\n\u001b[0;32m   5272\u001b[0m             \u001b[1;32mif\u001b[0m \u001b[0mself\u001b[0m\u001b[1;33m.\u001b[0m\u001b[0m_info_axis\u001b[0m\u001b[1;33m.\u001b[0m\u001b[0m_can_hold_identifiers_and_holds_name\u001b[0m\u001b[1;33m(\u001b[0m\u001b[0mname\u001b[0m\u001b[1;33m)\u001b[0m\u001b[1;33m:\u001b[0m\u001b[1;33m\u001b[0m\u001b[1;33m\u001b[0m\u001b[0m\n\u001b[0;32m   5273\u001b[0m                 \u001b[1;32mreturn\u001b[0m \u001b[0mself\u001b[0m\u001b[1;33m[\u001b[0m\u001b[0mname\u001b[0m\u001b[1;33m]\u001b[0m\u001b[1;33m\u001b[0m\u001b[1;33m\u001b[0m\u001b[0m\n\u001b[1;32m-> 5274\u001b[1;33m             \u001b[1;32mreturn\u001b[0m \u001b[0mobject\u001b[0m\u001b[1;33m.\u001b[0m\u001b[0m__getattribute__\u001b[0m\u001b[1;33m(\u001b[0m\u001b[0mself\u001b[0m\u001b[1;33m,\u001b[0m \u001b[0mname\u001b[0m\u001b[1;33m)\u001b[0m\u001b[1;33m\u001b[0m\u001b[1;33m\u001b[0m\u001b[0m\n\u001b[0m\u001b[0;32m   5275\u001b[0m \u001b[1;33m\u001b[0m\u001b[0m\n\u001b[0;32m   5276\u001b[0m     \u001b[1;32mdef\u001b[0m \u001b[0m__setattr__\u001b[0m\u001b[1;33m(\u001b[0m\u001b[0mself\u001b[0m\u001b[1;33m,\u001b[0m \u001b[0mname\u001b[0m\u001b[1;33m:\u001b[0m \u001b[0mstr\u001b[0m\u001b[1;33m,\u001b[0m \u001b[0mvalue\u001b[0m\u001b[1;33m)\u001b[0m \u001b[1;33m->\u001b[0m \u001b[1;32mNone\u001b[0m\u001b[1;33m:\u001b[0m\u001b[1;33m\u001b[0m\u001b[1;33m\u001b[0m\u001b[0m\n",
      "\u001b[1;31mAttributeError\u001b[0m: 'DataFrame' object has no attribute 'CNW'"
     ]
    }
   ],
   "source": [
    "add.CNW.IncomeList"
   ]
  },
  {
   "cell_type": "code",
   "execution_count": 186,
   "metadata": {},
   "outputs": [
    {
     "data": {
      "text/plain": [
       "Index(['Address', 'ECIFID', 'TotalHHIncomeYrly', 'SaveAcctRef',\n",
       "       'TotalMthlyExpenses', 'TotalHHIncomeMthly', 'IncomeReviewIndicator',\n",
       "       'ChannelList', 'DateOfBirth', 'FirstServiceDate', 'OccCombCode',\n",
       "       'SpouseHHIncomeMthly', 'pySSN', 'IsSelfEmployed', 'Duration',\n",
       "       'TotalPerIncomeMthly', 'OtherIncome', 'CheqAcctRef',\n",
       "       'ResidentialStatus', 'TotalMthlyLiabAmt', 'ServicedByIndicator',\n",
       "       'pxSubscript', 'SpouseHHIncomeYrly', 'CNW.IncomeList',\n",
       "       'EnrichedData.UpdateDate', 'EnrichedData.PhoneNumber',\n",
       "       'EnrichedData.CustomerType', 'CBR.OutputFormatCode',\n",
       "       'CBR.DepositAlertFlag', 'CBR.SegmentID', 'CBR.DateReported',\n",
       "       'CBR.SafeScanCode2', 'CBR.TradeDetails', 'CBR.MonthsToCountMaxDel',\n",
       "       'CBR.Inquiries', 'CBR.InFileSince', 'CBR.CreditFileWarning',\n",
       "       'CBR.ConsumerReferralCode', 'CBR.SegmentCounters', 'CBR.CBScore',\n",
       "       'CBR.ProductHeader.ProductCode', 'CBR.LanguageInd',\n",
       "       'CBR.MonthsToCountInquiry', 'CBR.SafeScanCode', 'CBR.CBRProvider',\n",
       "       'CBR.TransactionControl.TransactionTime',\n",
       "       'CBR.TransactionControl.pyCountry',\n",
       "       'CBR.TransactionControl.LanguageInd',\n",
       "       'CBR.TransactionControl.IndustryCode',\n",
       "       'CBR.TransactionControl.BureauMarket',\n",
       "       'CBR.TransactionControl.ReferenceNum',\n",
       "       'CBR.TransactionControl.BureauSubmarket',\n",
       "       'CBR.TransactionControl.VersionSwitch',\n",
       "       'CBR.TransactionControl.MemberCode',\n",
       "       'CBR.TransactionControl.TransactionDate', 'CBR.MemberCode',\n",
       "       'CBR.Bankruptcy', 'CBR.NumOfDependents', 'CBR.ReferenceNumber',\n",
       "       'CBR.HitOrNoHit', 'CBR.CBRClientDetails.DateOfBirth',\n",
       "       'CBR.CBRClientDetails.pyNameSuffix', 'CBR.CBRClientDetails.pyFirstName',\n",
       "       'CBR.CBRClientDetails.Address', 'CBR.CBRClientDetails.pySSN',\n",
       "       'CBR.CBRClientDetails.SpouseInfo.pyFirstName',\n",
       "       'CBR.CBRClientDetails.SpouseInfo.pySSN',\n",
       "       'CBR.CBRClientDetails.MiddleName', 'CBR.CBRClientDetails.pyLastName',\n",
       "       'CBR.DateLastActivity', 'CBR.OtherSubjectInfo.EmploymentInfo',\n",
       "       'CBR.NumOfInquiries', 'CBR.MaritalStatus', 'CBR.ECOAInquiryType',\n",
       "       'CBR.RetrievalTimeStamp', 'CBR.SecuredLoan', 'CBR.MultipleFileInd',\n",
       "       'CBR.CardAlertFlag', 'AnalyticProfile.TotalNoRSMProdSvcs',\n",
       "       'AnalyticProfile.RBSSResponseCode', 'AnalyticProfile.PBISIndicator',\n",
       "       'AnalyticProfile.TRIScore', 'AnalyticProfile.VIPCCIndicator',\n",
       "       'AnalyticProfile.CustomerNet1stAccPeriod',\n",
       "       'AnalyticProfile.SecurityIndicator'],\n",
       "      dtype='object')"
      ]
     },
     "execution_count": 186,
     "metadata": {},
     "output_type": "execute_result"
    }
   ],
   "source": [
    "add.keys()"
   ]
  },
  {
   "cell_type": "code",
   "execution_count": 61,
   "metadata": {
    "scrolled": true
   },
   "outputs": [],
   "source": [
    "field_Main = ['ECIFID','TotalHHIncomeYrly','SaveAcctRef','TotalMthlyExpenses','TotalHHIncomeMthly','IncomeReviewIndicator','DateOfBirth','FirstServiceDate','OccCombCode','SpouseHHIncomeMthly','pySSN','IsSelfEmployed','Duration','TotalPerIncomeMthly','OtherIncome','CheqAcctRef','ResidentialStatus','TotalMthlyLiabAmt','ServicedByIndicator','pxSubscript','SpouseHHIncomeYrly']"
   ]
  },
  {
   "cell_type": "code",
   "execution_count": null,
   "metadata": {},
   "outputs": [],
   "source": [
    ",'IncomeReviewIndicator','DateOfBirth','FirstServiceDate','OccCombCode','SpouseHHIncomeMthly','pySSN','IsSelfEmployed','Duration','TotalPerIncomeMthly','OtherIncome','CheqAcctRef','ResidentialStatus','TotalMthlyLiabAmt','ServicedByIndicator','pxSubscript','SpouseHHIncomeYrly"
   ]
  },
  {
   "cell_type": "code",
   "execution_count": 62,
   "metadata": {},
   "outputs": [
    {
     "ename": "AttributeError",
     "evalue": "'DataFrame' object has no attribute 'field_Main'",
     "output_type": "error",
     "traceback": [
      "\u001b[1;31m---------------------------------------------------------------------------\u001b[0m",
      "\u001b[1;31mAttributeError\u001b[0m                            Traceback (most recent call last)",
      "\u001b[1;32m<ipython-input-62-07bcf08aa7da>\u001b[0m in \u001b[0;36m<module>\u001b[1;34m\u001b[0m\n\u001b[1;32m----> 1\u001b[1;33m \u001b[0madd\u001b[0m\u001b[1;33m.\u001b[0m\u001b[0mfield_Main\u001b[0m\u001b[1;33m\u001b[0m\u001b[1;33m\u001b[0m\u001b[0m\n\u001b[0m",
      "\u001b[1;32m~\\anaconda3\\lib\\site-packages\\pandas\\core\\generic.py\u001b[0m in \u001b[0;36m__getattr__\u001b[1;34m(self, name)\u001b[0m\n\u001b[0;32m   5272\u001b[0m             \u001b[1;32mif\u001b[0m \u001b[0mself\u001b[0m\u001b[1;33m.\u001b[0m\u001b[0m_info_axis\u001b[0m\u001b[1;33m.\u001b[0m\u001b[0m_can_hold_identifiers_and_holds_name\u001b[0m\u001b[1;33m(\u001b[0m\u001b[0mname\u001b[0m\u001b[1;33m)\u001b[0m\u001b[1;33m:\u001b[0m\u001b[1;33m\u001b[0m\u001b[1;33m\u001b[0m\u001b[0m\n\u001b[0;32m   5273\u001b[0m                 \u001b[1;32mreturn\u001b[0m \u001b[0mself\u001b[0m\u001b[1;33m[\u001b[0m\u001b[0mname\u001b[0m\u001b[1;33m]\u001b[0m\u001b[1;33m\u001b[0m\u001b[1;33m\u001b[0m\u001b[0m\n\u001b[1;32m-> 5274\u001b[1;33m             \u001b[1;32mreturn\u001b[0m \u001b[0mobject\u001b[0m\u001b[1;33m.\u001b[0m\u001b[0m__getattribute__\u001b[0m\u001b[1;33m(\u001b[0m\u001b[0mself\u001b[0m\u001b[1;33m,\u001b[0m \u001b[0mname\u001b[0m\u001b[1;33m)\u001b[0m\u001b[1;33m\u001b[0m\u001b[1;33m\u001b[0m\u001b[0m\n\u001b[0m\u001b[0;32m   5275\u001b[0m \u001b[1;33m\u001b[0m\u001b[0m\n\u001b[0;32m   5276\u001b[0m     \u001b[1;32mdef\u001b[0m \u001b[0m__setattr__\u001b[0m\u001b[1;33m(\u001b[0m\u001b[0mself\u001b[0m\u001b[1;33m,\u001b[0m \u001b[0mname\u001b[0m\u001b[1;33m:\u001b[0m \u001b[0mstr\u001b[0m\u001b[1;33m,\u001b[0m \u001b[0mvalue\u001b[0m\u001b[1;33m)\u001b[0m \u001b[1;33m->\u001b[0m \u001b[1;32mNone\u001b[0m\u001b[1;33m:\u001b[0m\u001b[1;33m\u001b[0m\u001b[1;33m\u001b[0m\u001b[0m\n",
      "\u001b[1;31mAttributeError\u001b[0m: 'DataFrame' object has no attribute 'field_Main'"
     ]
    }
   ],
   "source": [
    "add.field_Main"
   ]
  },
  {
   "cell_type": "code",
   "execution_count": 65,
   "metadata": {},
   "outputs": [
    {
     "data": {
      "text/html": [
       "<div>\n",
       "<style scoped>\n",
       "    .dataframe tbody tr th:only-of-type {\n",
       "        vertical-align: middle;\n",
       "    }\n",
       "\n",
       "    .dataframe tbody tr th {\n",
       "        vertical-align: top;\n",
       "    }\n",
       "\n",
       "    .dataframe thead th {\n",
       "        text-align: right;\n",
       "    }\n",
       "</style>\n",
       "<table border=\"1\" class=\"dataframe\">\n",
       "  <thead>\n",
       "    <tr style=\"text-align: right;\">\n",
       "      <th></th>\n",
       "      <th>ECIFID</th>\n",
       "      <th>TotalHHIncomeYrly</th>\n",
       "      <th>SaveAcctRef</th>\n",
       "      <th>TotalMthlyExpenses</th>\n",
       "      <th>TotalHHIncomeMthly</th>\n",
       "      <th>IncomeReviewIndicator</th>\n",
       "      <th>DateOfBirth</th>\n",
       "      <th>FirstServiceDate</th>\n",
       "      <th>OccCombCode</th>\n",
       "      <th>SpouseHHIncomeMthly</th>\n",
       "      <th>...</th>\n",
       "      <th>IsSelfEmployed</th>\n",
       "      <th>Duration</th>\n",
       "      <th>TotalPerIncomeMthly</th>\n",
       "      <th>OtherIncome</th>\n",
       "      <th>CheqAcctRef</th>\n",
       "      <th>ResidentialStatus</th>\n",
       "      <th>TotalMthlyLiabAmt</th>\n",
       "      <th>ServicedByIndicator</th>\n",
       "      <th>pxSubscript</th>\n",
       "      <th>SpouseHHIncomeYrly</th>\n",
       "    </tr>\n",
       "  </thead>\n",
       "  <tbody>\n",
       "    <tr>\n",
       "      <th>0</th>\n",
       "      <td>2106147717</td>\n",
       "      <td>84000.0</td>\n",
       "      <td></td>\n",
       "      <td>242</td>\n",
       "      <td>7000.0</td>\n",
       "      <td>None</td>\n",
       "      <td>19470420</td>\n",
       "      <td>20170929</td>\n",
       "      <td>0163</td>\n",
       "      <td>4000.0</td>\n",
       "      <td>...</td>\n",
       "      <td>N</td>\n",
       "      <td>0709</td>\n",
       "      <td>3000.0</td>\n",
       "      <td>4000.0</td>\n",
       "      <td></td>\n",
       "      <td>O</td>\n",
       "      <td>None</td>\n",
       "      <td>0</td>\n",
       "      <td>ECIF2106147717</td>\n",
       "      <td>48000</td>\n",
       "    </tr>\n",
       "  </tbody>\n",
       "</table>\n",
       "<p>1 rows × 21 columns</p>\n",
       "</div>"
      ],
      "text/plain": [
       "       ECIFID  TotalHHIncomeYrly SaveAcctRef  TotalMthlyExpenses  \\\n",
       "0  2106147717            84000.0                             242   \n",
       "\n",
       "   TotalHHIncomeMthly IncomeReviewIndicator DateOfBirth FirstServiceDate  \\\n",
       "0              7000.0                  None    19470420         20170929   \n",
       "\n",
       "  OccCombCode  SpouseHHIncomeMthly  ... IsSelfEmployed Duration  \\\n",
       "0        0163               4000.0  ...              N     0709   \n",
       "\n",
       "  TotalPerIncomeMthly  OtherIncome  CheqAcctRef ResidentialStatus  \\\n",
       "0              3000.0       4000.0                              O   \n",
       "\n",
       "  TotalMthlyLiabAmt ServicedByIndicator     pxSubscript SpouseHHIncomeYrly  \n",
       "0              None                   0  ECIF2106147717              48000  \n",
       "\n",
       "[1 rows x 21 columns]"
      ]
     },
     "execution_count": 65,
     "metadata": {},
     "output_type": "execute_result"
    }
   ],
   "source": []
  },
  {
   "cell_type": "code",
   "execution_count": 72,
   "metadata": {},
   "outputs": [
    {
     "data": {
      "text/plain": [
       "Index(['ClientDetails', 'pyCreateDate', 'Product', 'ChannelType'], dtype='object')"
      ]
     },
     "execution_count": 72,
     "metadata": {},
     "output_type": "execute_result"
    }
   ],
   "source": [
    "df.iloc[0].keys()"
   ]
  },
  {
   "cell_type": "code",
   "execution_count": 87,
   "metadata": {},
   "outputs": [
    {
     "data": {
      "text/html": [
       "<div>\n",
       "<style scoped>\n",
       "    .dataframe tbody tr th:only-of-type {\n",
       "        vertical-align: middle;\n",
       "    }\n",
       "\n",
       "    .dataframe tbody tr th {\n",
       "        vertical-align: top;\n",
       "    }\n",
       "\n",
       "    .dataframe thead th {\n",
       "        text-align: right;\n",
       "    }\n",
       "</style>\n",
       "<table border=\"1\" class=\"dataframe\">\n",
       "  <thead>\n",
       "    <tr style=\"text-align: right;\">\n",
       "      <th></th>\n",
       "      <th>ChannelType</th>\n",
       "      <th>pyCreateDate</th>\n",
       "    </tr>\n",
       "  </thead>\n",
       "  <tbody>\n",
       "    <tr>\n",
       "      <th>ECIF2106147717</th>\n",
       "      <td>B</td>\n",
       "      <td>20200206</td>\n",
       "    </tr>\n",
       "    <tr>\n",
       "      <th>PropID</th>\n",
       "      <td>B</td>\n",
       "      <td>20200206</td>\n",
       "    </tr>\n",
       "    <tr>\n",
       "      <th>ProductCodeType</th>\n",
       "      <td>B</td>\n",
       "      <td>20200206</td>\n",
       "    </tr>\n",
       "    <tr>\n",
       "      <th>RPOCSequenceID</th>\n",
       "      <td>B</td>\n",
       "      <td>20200206</td>\n",
       "    </tr>\n",
       "    <tr>\n",
       "      <th>ProductCode</th>\n",
       "      <td>B</td>\n",
       "      <td>20200206</td>\n",
       "    </tr>\n",
       "    <tr>\n",
       "      <th>IsPreApproved</th>\n",
       "      <td>B</td>\n",
       "      <td>20200206</td>\n",
       "    </tr>\n",
       "    <tr>\n",
       "      <th>StrategyID</th>\n",
       "      <td>B</td>\n",
       "      <td>20200206</td>\n",
       "    </tr>\n",
       "    <tr>\n",
       "      <th>CaseID</th>\n",
       "      <td>B</td>\n",
       "      <td>20200206</td>\n",
       "    </tr>\n",
       "    <tr>\n",
       "      <th>RequestedLimit</th>\n",
       "      <td>B</td>\n",
       "      <td>20200206</td>\n",
       "    </tr>\n",
       "    <tr>\n",
       "      <th>AlternativeFeeIndicator</th>\n",
       "      <td>B</td>\n",
       "      <td>20200206</td>\n",
       "    </tr>\n",
       "    <tr>\n",
       "      <th>ProductCodeInd</th>\n",
       "      <td>B</td>\n",
       "      <td>20200206</td>\n",
       "    </tr>\n",
       "    <tr>\n",
       "      <th>CardsSrcCode</th>\n",
       "      <td>B</td>\n",
       "      <td>20200206</td>\n",
       "    </tr>\n",
       "    <tr>\n",
       "      <th>TreatmentID</th>\n",
       "      <td>B</td>\n",
       "      <td>20200206</td>\n",
       "    </tr>\n",
       "    <tr>\n",
       "      <th>VendorRefNo</th>\n",
       "      <td>B</td>\n",
       "      <td>20200206</td>\n",
       "    </tr>\n",
       "  </tbody>\n",
       "</table>\n",
       "</div>"
      ],
      "text/plain": [
       "                        ChannelType pyCreateDate\n",
       "ECIF2106147717                    B     20200206\n",
       "PropID                            B     20200206\n",
       "ProductCodeType                   B     20200206\n",
       "RPOCSequenceID                    B     20200206\n",
       "ProductCode                       B     20200206\n",
       "IsPreApproved                     B     20200206\n",
       "StrategyID                        B     20200206\n",
       "CaseID                            B     20200206\n",
       "RequestedLimit                    B     20200206\n",
       "AlternativeFeeIndicator           B     20200206\n",
       "ProductCodeInd                    B     20200206\n",
       "CardsSrcCode                      B     20200206\n",
       "TreatmentID                       B     20200206\n",
       "VendorRefNo                       B     20200206"
      ]
     },
     "execution_count": 87,
     "metadata": {},
     "output_type": "execute_result"
    }
   ],
   "source": [
    "df[['ChannelType','pyCreateDate']]"
   ]
  },
  {
   "cell_type": "code",
   "execution_count": 74,
   "metadata": {},
   "outputs": [],
   "source": [
    "prim = df.iloc[0]"
   ]
  },
  {
   "cell_type": "code",
   "execution_count": 80,
   "metadata": {},
   "outputs": [],
   "source": [
    "prim_filed = ['ChannelType''pyCreateDate']"
   ]
  },
  {
   "cell_type": "code",
   "execution_count": 82,
   "metadata": {},
   "outputs": [
    {
     "ename": "AttributeError",
     "evalue": "'Series' object has no attribute 'prim_filed'",
     "output_type": "error",
     "traceback": [
      "\u001b[1;31m---------------------------------------------------------------------------\u001b[0m",
      "\u001b[1;31mAttributeError\u001b[0m                            Traceback (most recent call last)",
      "\u001b[1;32m<ipython-input-82-ef37497391e6>\u001b[0m in \u001b[0;36m<module>\u001b[1;34m\u001b[0m\n\u001b[1;32m----> 1\u001b[1;33m \u001b[0mprim\u001b[0m\u001b[1;33m.\u001b[0m\u001b[0mprim_filed\u001b[0m\u001b[1;33m\u001b[0m\u001b[1;33m\u001b[0m\u001b[0m\n\u001b[0m",
      "\u001b[1;32m~\\anaconda3\\lib\\site-packages\\pandas\\core\\generic.py\u001b[0m in \u001b[0;36m__getattr__\u001b[1;34m(self, name)\u001b[0m\n\u001b[0;32m   5272\u001b[0m             \u001b[1;32mif\u001b[0m \u001b[0mself\u001b[0m\u001b[1;33m.\u001b[0m\u001b[0m_info_axis\u001b[0m\u001b[1;33m.\u001b[0m\u001b[0m_can_hold_identifiers_and_holds_name\u001b[0m\u001b[1;33m(\u001b[0m\u001b[0mname\u001b[0m\u001b[1;33m)\u001b[0m\u001b[1;33m:\u001b[0m\u001b[1;33m\u001b[0m\u001b[1;33m\u001b[0m\u001b[0m\n\u001b[0;32m   5273\u001b[0m                 \u001b[1;32mreturn\u001b[0m \u001b[0mself\u001b[0m\u001b[1;33m[\u001b[0m\u001b[0mname\u001b[0m\u001b[1;33m]\u001b[0m\u001b[1;33m\u001b[0m\u001b[1;33m\u001b[0m\u001b[0m\n\u001b[1;32m-> 5274\u001b[1;33m             \u001b[1;32mreturn\u001b[0m \u001b[0mobject\u001b[0m\u001b[1;33m.\u001b[0m\u001b[0m__getattribute__\u001b[0m\u001b[1;33m(\u001b[0m\u001b[0mself\u001b[0m\u001b[1;33m,\u001b[0m \u001b[0mname\u001b[0m\u001b[1;33m)\u001b[0m\u001b[1;33m\u001b[0m\u001b[1;33m\u001b[0m\u001b[0m\n\u001b[0m\u001b[0;32m   5275\u001b[0m \u001b[1;33m\u001b[0m\u001b[0m\n\u001b[0;32m   5276\u001b[0m     \u001b[1;32mdef\u001b[0m \u001b[0m__setattr__\u001b[0m\u001b[1;33m(\u001b[0m\u001b[0mself\u001b[0m\u001b[1;33m,\u001b[0m \u001b[0mname\u001b[0m\u001b[1;33m:\u001b[0m \u001b[0mstr\u001b[0m\u001b[1;33m,\u001b[0m \u001b[0mvalue\u001b[0m\u001b[1;33m)\u001b[0m \u001b[1;33m->\u001b[0m \u001b[1;32mNone\u001b[0m\u001b[1;33m:\u001b[0m\u001b[1;33m\u001b[0m\u001b[1;33m\u001b[0m\u001b[0m\n",
      "\u001b[1;31mAttributeError\u001b[0m: 'Series' object has no attribute 'prim_filed'"
     ]
    }
   ],
   "source": [
    "prim.prim_filed"
   ]
  },
  {
   "cell_type": "code",
   "execution_count": 117,
   "metadata": {},
   "outputs": [],
   "source": [
    "prod = df[['Product']]"
   ]
  },
  {
   "cell_type": "code",
   "execution_count": 139,
   "metadata": {},
   "outputs": [
    {
     "data": {
      "text/html": [
       "<div>\n",
       "<style scoped>\n",
       "    .dataframe tbody tr th:only-of-type {\n",
       "        vertical-align: middle;\n",
       "    }\n",
       "\n",
       "    .dataframe tbody tr th {\n",
       "        vertical-align: top;\n",
       "    }\n",
       "\n",
       "    .dataframe thead th {\n",
       "        text-align: right;\n",
       "    }\n",
       "</style>\n",
       "<table border=\"1\" class=\"dataframe\">\n",
       "  <thead>\n",
       "    <tr style=\"text-align: right;\">\n",
       "      <th></th>\n",
       "      <th>Product</th>\n",
       "    </tr>\n",
       "  </thead>\n",
       "  <tbody>\n",
       "    <tr>\n",
       "      <th>PropID</th>\n",
       "      <td>500000000530297</td>\n",
       "    </tr>\n",
       "    <tr>\n",
       "      <th>ProductCodeType</th>\n",
       "      <td>VA</td>\n",
       "    </tr>\n",
       "    <tr>\n",
       "      <th>RPOCSequenceID</th>\n",
       "      <td>1</td>\n",
       "    </tr>\n",
       "    <tr>\n",
       "      <th>ProductCode</th>\n",
       "      <td>VWVA</td>\n",
       "    </tr>\n",
       "    <tr>\n",
       "      <th>IsPreApproved</th>\n",
       "      <td></td>\n",
       "    </tr>\n",
       "    <tr>\n",
       "      <th>StrategyID</th>\n",
       "      <td></td>\n",
       "    </tr>\n",
       "    <tr>\n",
       "      <th>CaseID</th>\n",
       "      <td>SO-20020680007</td>\n",
       "    </tr>\n",
       "    <tr>\n",
       "      <th>RequestedLimit</th>\n",
       "      <td>None</td>\n",
       "    </tr>\n",
       "    <tr>\n",
       "      <th>AlternativeFeeIndicator</th>\n",
       "      <td>N</td>\n",
       "    </tr>\n",
       "    <tr>\n",
       "      <th>ProductCodeInd</th>\n",
       "      <td>VW</td>\n",
       "    </tr>\n",
       "    <tr>\n",
       "      <th>CardsSrcCode</th>\n",
       "      <td>None</td>\n",
       "    </tr>\n",
       "    <tr>\n",
       "      <th>TreatmentID</th>\n",
       "      <td>1</td>\n",
       "    </tr>\n",
       "    <tr>\n",
       "      <th>VendorRefNo</th>\n",
       "      <td>610000000</td>\n",
       "    </tr>\n",
       "  </tbody>\n",
       "</table>\n",
       "</div>"
      ],
      "text/plain": [
       "                                 Product\n",
       "PropID                   500000000530297\n",
       "ProductCodeType                       VA\n",
       "RPOCSequenceID                         1\n",
       "ProductCode                         VWVA\n",
       "IsPreApproved                           \n",
       "StrategyID                              \n",
       "CaseID                    SO-20020680007\n",
       "RequestedLimit                      None\n",
       "AlternativeFeeIndicator                N\n",
       "ProductCodeInd                        VW\n",
       "CardsSrcCode                        None\n",
       "TreatmentID                            1\n",
       "VendorRefNo                    610000000"
      ]
     },
     "execution_count": 139,
     "metadata": {},
     "output_type": "execute_result"
    }
   ],
   "source": [
    "prod.drop([ecif_num])"
   ]
  },
  {
   "cell_type": "code",
   "execution_count": 143,
   "metadata": {},
   "outputs": [
    {
     "data": {
      "text/html": [
       "<div>\n",
       "<style scoped>\n",
       "    .dataframe tbody tr th:only-of-type {\n",
       "        vertical-align: middle;\n",
       "    }\n",
       "\n",
       "    .dataframe tbody tr th {\n",
       "        vertical-align: top;\n",
       "    }\n",
       "\n",
       "    .dataframe thead tr th {\n",
       "        text-align: left;\n",
       "    }\n",
       "</style>\n",
       "<table border=\"1\" class=\"dataframe\">\n",
       "  <thead>\n",
       "  </thead>\n",
       "  <tbody>\n",
       "    <tr>\n",
       "      <th>AlternativeFeeIndicator</th>\n",
       "    </tr>\n",
       "    <tr>\n",
       "      <th>CardsSrcCode</th>\n",
       "    </tr>\n",
       "    <tr>\n",
       "      <th>CaseID</th>\n",
       "    </tr>\n",
       "    <tr>\n",
       "      <th>ECIF2106147717</th>\n",
       "    </tr>\n",
       "    <tr>\n",
       "      <th>IsPreApproved</th>\n",
       "    </tr>\n",
       "    <tr>\n",
       "      <th>ProductCode</th>\n",
       "    </tr>\n",
       "    <tr>\n",
       "      <th>ProductCodeInd</th>\n",
       "    </tr>\n",
       "    <tr>\n",
       "      <th>ProductCodeType</th>\n",
       "    </tr>\n",
       "    <tr>\n",
       "      <th>PropID</th>\n",
       "    </tr>\n",
       "    <tr>\n",
       "      <th>RPOCSequenceID</th>\n",
       "    </tr>\n",
       "    <tr>\n",
       "      <th>RequestedLimit</th>\n",
       "    </tr>\n",
       "    <tr>\n",
       "      <th>StrategyID</th>\n",
       "    </tr>\n",
       "    <tr>\n",
       "      <th>TreatmentID</th>\n",
       "    </tr>\n",
       "    <tr>\n",
       "      <th>VendorRefNo</th>\n",
       "    </tr>\n",
       "  </tbody>\n",
       "</table>\n",
       "</div>"
      ],
      "text/plain": [
       "Empty DataFrame\n",
       "Columns: []\n",
       "Index: [AlternativeFeeIndicator, CardsSrcCode, CaseID, ECIF2106147717, IsPreApproved, ProductCode, ProductCodeInd, ProductCodeType, PropID, RPOCSequenceID, RequestedLimit, StrategyID, TreatmentID, VendorRefNo]"
      ]
     },
     "execution_count": 143,
     "metadata": {},
     "output_type": "execute_result"
    }
   ],
   "source": [
    "prod.pivot(index=None, columns='Product', values=None)"
   ]
  },
  {
   "cell_type": "code",
   "execution_count": 132,
   "metadata": {},
   "outputs": [
    {
     "data": {
      "text/plain": [
       "array([['ECIF2106147717']], dtype=object)"
      ]
     },
     "execution_count": 132,
     "metadata": {},
     "output_type": "execute_result"
    }
   ],
   "source": [
    "ecif.values"
   ]
  },
  {
   "cell_type": "code",
   "execution_count": 136,
   "metadata": {},
   "outputs": [],
   "source": [
    "ecif_num = ecif.values[0,0]"
   ]
  },
  {
   "cell_type": "code",
   "execution_count": 137,
   "metadata": {},
   "outputs": [
    {
     "data": {
      "text/plain": [
       "'ECIF2106147717'"
      ]
     },
     "execution_count": 137,
     "metadata": {},
     "output_type": "execute_result"
    }
   ],
   "source": [
    "ecif_num"
   ]
  },
  {
   "cell_type": "code",
   "execution_count": 155,
   "metadata": {},
   "outputs": [
    {
     "ename": "TypeError",
     "evalue": "string indices must be integers",
     "output_type": "error",
     "traceback": [
      "\u001b[1;31m---------------------------------------------------------------------------\u001b[0m",
      "\u001b[1;31mTypeError\u001b[0m                                 Traceback (most recent call last)",
      "\u001b[1;32m<ipython-input-155-cc038c659027>\u001b[0m in \u001b[0;36m<module>\u001b[1;34m\u001b[0m\n\u001b[1;32m----> 1\u001b[1;33m \u001b[0mcreate_date\u001b[0m \u001b[1;33m=\u001b[0m \u001b[0mdata\u001b[0m\u001b[1;33m[\u001b[0m\u001b[1;34m'pyCreateDate'\u001b[0m\u001b[1;33m]\u001b[0m\u001b[1;33m[\u001b[0m\u001b[1;36m0\u001b[0m\u001b[1;33m,\u001b[0m\u001b[1;36m0\u001b[0m\u001b[1;33m]\u001b[0m\u001b[1;33m\u001b[0m\u001b[1;33m\u001b[0m\u001b[0m\n\u001b[0m",
      "\u001b[1;31mTypeError\u001b[0m: string indices must be integers"
     ]
    }
   ],
   "source": [
    "create_date = data['pyCreateDate']"
   ]
  },
  {
   "cell_type": "code",
   "execution_count": 169,
   "metadata": {},
   "outputs": [],
   "source": [
    "other = pd.DataFrame({'pyCreateDate':data['pyCreateDate'],'ChannelType':[data['ChannelType']]})"
   ]
  },
  {
   "cell_type": "code",
   "execution_count": 170,
   "metadata": {},
   "outputs": [
    {
     "data": {
      "text/html": [
       "<div>\n",
       "<style scoped>\n",
       "    .dataframe tbody tr th:only-of-type {\n",
       "        vertical-align: middle;\n",
       "    }\n",
       "\n",
       "    .dataframe tbody tr th {\n",
       "        vertical-align: top;\n",
       "    }\n",
       "\n",
       "    .dataframe thead th {\n",
       "        text-align: right;\n",
       "    }\n",
       "</style>\n",
       "<table border=\"1\" class=\"dataframe\">\n",
       "  <thead>\n",
       "    <tr style=\"text-align: right;\">\n",
       "      <th></th>\n",
       "      <th>pyCreateDate</th>\n",
       "      <th>ChannelType</th>\n",
       "    </tr>\n",
       "  </thead>\n",
       "  <tbody>\n",
       "    <tr>\n",
       "      <th>0</th>\n",
       "      <td>20200206</td>\n",
       "      <td>B</td>\n",
       "    </tr>\n",
       "  </tbody>\n",
       "</table>\n",
       "</div>"
      ],
      "text/plain": [
       "  pyCreateDate ChannelType\n",
       "0     20200206           B"
      ]
     },
     "execution_count": 170,
     "metadata": {},
     "output_type": "execute_result"
    }
   ],
   "source": [
    "other"
   ]
  },
  {
   "cell_type": "code",
   "execution_count": 167,
   "metadata": {},
   "outputs": [],
   "source": [
    "new_df = pd.concat([other, final], axis=1, sort=False)"
   ]
  },
  {
   "cell_type": "code",
   "execution_count": 168,
   "metadata": {},
   "outputs": [
    {
     "data": {
      "text/html": [
       "<div>\n",
       "<style scoped>\n",
       "    .dataframe tbody tr th:only-of-type {\n",
       "        vertical-align: middle;\n",
       "    }\n",
       "\n",
       "    .dataframe tbody tr th {\n",
       "        vertical-align: top;\n",
       "    }\n",
       "\n",
       "    .dataframe thead th {\n",
       "        text-align: right;\n",
       "    }\n",
       "</style>\n",
       "<table border=\"1\" class=\"dataframe\">\n",
       "  <thead>\n",
       "    <tr style=\"text-align: right;\">\n",
       "      <th></th>\n",
       "      <th>pyCreateDate</th>\n",
       "      <th>ChannelType</th>\n",
       "      <th>ECIFID</th>\n",
       "      <th>TotalHHIncomeYrly</th>\n",
       "      <th>SaveAcctRef</th>\n",
       "      <th>TotalMthlyExpenses</th>\n",
       "      <th>TotalHHIncomeMthly</th>\n",
       "      <th>IncomeReviewIndicator</th>\n",
       "      <th>DateOfBirth</th>\n",
       "      <th>FirstServiceDate</th>\n",
       "      <th>...</th>\n",
       "      <th>IsSelfEmployed</th>\n",
       "      <th>Duration</th>\n",
       "      <th>TotalPerIncomeMthly</th>\n",
       "      <th>OtherIncome</th>\n",
       "      <th>CheqAcctRef</th>\n",
       "      <th>ResidentialStatus</th>\n",
       "      <th>TotalMthlyLiabAmt</th>\n",
       "      <th>ServicedByIndicator</th>\n",
       "      <th>pxSubscript</th>\n",
       "      <th>SpouseHHIncomeYrly</th>\n",
       "    </tr>\n",
       "  </thead>\n",
       "  <tbody>\n",
       "    <tr>\n",
       "      <th>0</th>\n",
       "      <td>20200206</td>\n",
       "      <td>B</td>\n",
       "      <td>2106147717</td>\n",
       "      <td>84000.0</td>\n",
       "      <td></td>\n",
       "      <td>242</td>\n",
       "      <td>7000.0</td>\n",
       "      <td>None</td>\n",
       "      <td>19470420</td>\n",
       "      <td>20170929</td>\n",
       "      <td>...</td>\n",
       "      <td>N</td>\n",
       "      <td>0709</td>\n",
       "      <td>3000.0</td>\n",
       "      <td>4000.0</td>\n",
       "      <td></td>\n",
       "      <td>O</td>\n",
       "      <td>None</td>\n",
       "      <td>0</td>\n",
       "      <td>ECIF2106147717</td>\n",
       "      <td>48000</td>\n",
       "    </tr>\n",
       "  </tbody>\n",
       "</table>\n",
       "<p>1 rows × 23 columns</p>\n",
       "</div>"
      ],
      "text/plain": [
       "  pyCreateDate ChannelType      ECIFID  TotalHHIncomeYrly SaveAcctRef  \\\n",
       "0     20200206           B  2106147717            84000.0               \n",
       "\n",
       "   TotalMthlyExpenses  TotalHHIncomeMthly IncomeReviewIndicator DateOfBirth  \\\n",
       "0                 242              7000.0                  None    19470420   \n",
       "\n",
       "  FirstServiceDate  ... IsSelfEmployed  Duration TotalPerIncomeMthly  \\\n",
       "0         20170929  ...              N      0709              3000.0   \n",
       "\n",
       "  OtherIncome CheqAcctRef  ResidentialStatus  TotalMthlyLiabAmt  \\\n",
       "0      4000.0                              O               None   \n",
       "\n",
       "  ServicedByIndicator     pxSubscript SpouseHHIncomeYrly  \n",
       "0                   0  ECIF2106147717              48000  \n",
       "\n",
       "[1 rows x 23 columns]"
      ]
     },
     "execution_count": 168,
     "metadata": {},
     "output_type": "execute_result"
    }
   ],
   "source": [
    "new_df"
   ]
  },
  {
   "cell_type": "code",
   "execution_count": 179,
   "metadata": {},
   "outputs": [],
   "source": [
    "address = pd.json_normalize(df.iloc[0]['ClientDetails']['Address'])"
   ]
  },
  {
   "cell_type": "code",
   "execution_count": 177,
   "metadata": {},
   "outputs": [
    {
     "data": {
      "text/plain": [
       "pandas.core.frame.DataFrame"
      ]
     },
     "execution_count": 177,
     "metadata": {},
     "output_type": "execute_result"
    }
   ],
   "source": [
    "type(address)"
   ]
  },
  {
   "cell_type": "code",
   "execution_count": 178,
   "metadata": {},
   "outputs": [
    {
     "data": {
      "text/html": [
       "<div>\n",
       "<style scoped>\n",
       "    .dataframe tbody tr th:only-of-type {\n",
       "        vertical-align: middle;\n",
       "    }\n",
       "\n",
       "    .dataframe tbody tr th {\n",
       "        vertical-align: top;\n",
       "    }\n",
       "\n",
       "    .dataframe thead th {\n",
       "        text-align: right;\n",
       "    }\n",
       "</style>\n",
       "<table border=\"1\" class=\"dataframe\">\n",
       "  <thead>\n",
       "    <tr style=\"text-align: right;\">\n",
       "      <th></th>\n",
       "      <th>PostalAddress.PostalCode</th>\n",
       "      <th>PostalAddress.City</th>\n",
       "      <th>PostalAddress.Province</th>\n",
       "    </tr>\n",
       "  </thead>\n",
       "  <tbody>\n",
       "    <tr>\n",
       "      <th>0</th>\n",
       "      <td>A2H 1E4</td>\n",
       "      <td>CORNER BROOK</td>\n",
       "      <td>NL</td>\n",
       "    </tr>\n",
       "  </tbody>\n",
       "</table>\n",
       "</div>"
      ],
      "text/plain": [
       "  PostalAddress.PostalCode PostalAddress.City PostalAddress.Province\n",
       "0                  A2H 1E4       CORNER BROOK                     NL"
      ]
     },
     "execution_count": 178,
     "metadata": {},
     "output_type": "execute_result"
    }
   ],
   "source": [
    "address\n"
   ]
  },
  {
   "cell_type": "code",
   "execution_count": 184,
   "metadata": {},
   "outputs": [],
   "source": [
    "cnw = pd.json_normalize(df.iloc[0]['ClientDetails']['CNW']['IncomeList'])"
   ]
  },
  {
   "cell_type": "code",
   "execution_count": 185,
   "metadata": {},
   "outputs": [
    {
     "data": {
      "text/html": [
       "<div>\n",
       "<style scoped>\n",
       "    .dataframe tbody tr th:only-of-type {\n",
       "        vertical-align: middle;\n",
       "    }\n",
       "\n",
       "    .dataframe tbody tr th {\n",
       "        vertical-align: top;\n",
       "    }\n",
       "\n",
       "    .dataframe thead th {\n",
       "        text-align: right;\n",
       "    }\n",
       "</style>\n",
       "<table border=\"1\" class=\"dataframe\">\n",
       "  <thead>\n",
       "    <tr style=\"text-align: right;\">\n",
       "      <th></th>\n",
       "      <th>BizBankAcctRef</th>\n",
       "      <th>BusinessType</th>\n",
       "      <th>LengthOfEmp</th>\n",
       "    </tr>\n",
       "  </thead>\n",
       "  <tbody>\n",
       "    <tr>\n",
       "      <th>0</th>\n",
       "      <td></td>\n",
       "      <td></td>\n",
       "      <td>0705</td>\n",
       "    </tr>\n",
       "  </tbody>\n",
       "</table>\n",
       "</div>"
      ],
      "text/plain": [
       "  BizBankAcctRef BusinessType LengthOfEmp\n",
       "0                                    0705"
      ]
     },
     "execution_count": 185,
     "metadata": {},
     "output_type": "execute_result"
    }
   ],
   "source": [
    "cnw"
   ]
  },
  {
   "cell_type": "code",
   "execution_count": 187,
   "metadata": {},
   "outputs": [],
   "source": [
    "new_add = add.drop(['Address'], axis = 1)"
   ]
  },
  {
   "cell_type": "code",
   "execution_count": 191,
   "metadata": {},
   "outputs": [],
   "source": [
    "EnrichedData = pd.json_normalize(df.iloc[0]['ClientDetails']['EnrichedData'])"
   ]
  },
  {
   "cell_type": "code",
   "execution_count": 193,
   "metadata": {},
   "outputs": [],
   "source": [
    "AnalyticProfile = pd.json_normalize(df.iloc[0]['ClientDetails']['AnalyticProfile'])"
   ]
  },
  {
   "cell_type": "code",
   "execution_count": 195,
   "metadata": {},
   "outputs": [],
   "source": [
    "ChannelList = pd.json_normalize(df.iloc[0]['ClientDetails']['ChannelList'])"
   ]
  },
  {
   "cell_type": "code",
   "execution_count": 196,
   "metadata": {},
   "outputs": [
    {
     "data": {
      "text/html": [
       "<div>\n",
       "<style scoped>\n",
       "    .dataframe tbody tr th:only-of-type {\n",
       "        vertical-align: middle;\n",
       "    }\n",
       "\n",
       "    .dataframe tbody tr th {\n",
       "        vertical-align: top;\n",
       "    }\n",
       "\n",
       "    .dataframe thead th {\n",
       "        text-align: right;\n",
       "    }\n",
       "</style>\n",
       "<table border=\"1\" class=\"dataframe\">\n",
       "  <thead>\n",
       "    <tr style=\"text-align: right;\">\n",
       "      <th></th>\n",
       "      <th>VendorId</th>\n",
       "    </tr>\n",
       "  </thead>\n",
       "  <tbody>\n",
       "    <tr>\n",
       "      <th>0</th>\n",
       "      <td>P</td>\n",
       "    </tr>\n",
       "  </tbody>\n",
       "</table>\n",
       "</div>"
      ],
      "text/plain": [
       "  VendorId\n",
       "0        P"
      ]
     },
     "execution_count": 196,
     "metadata": {},
     "output_type": "execute_result"
    }
   ],
   "source": [
    "ChannelList"
   ]
  },
  {
   "cell_type": "code",
   "execution_count": null,
   "metadata": {},
   "outputs": [],
   "source": []
  },
  {
   "cell_type": "code",
   "execution_count": 192,
   "metadata": {},
   "outputs": [
    {
     "data": {
      "text/html": [
       "<div>\n",
       "<style scoped>\n",
       "    .dataframe tbody tr th:only-of-type {\n",
       "        vertical-align: middle;\n",
       "    }\n",
       "\n",
       "    .dataframe tbody tr th {\n",
       "        vertical-align: top;\n",
       "    }\n",
       "\n",
       "    .dataframe thead th {\n",
       "        text-align: right;\n",
       "    }\n",
       "</style>\n",
       "<table border=\"1\" class=\"dataframe\">\n",
       "  <thead>\n",
       "    <tr style=\"text-align: right;\">\n",
       "      <th></th>\n",
       "      <th>UpdateDate</th>\n",
       "      <th>PhoneNumber</th>\n",
       "      <th>CustomerType</th>\n",
       "    </tr>\n",
       "  </thead>\n",
       "  <tbody>\n",
       "    <tr>\n",
       "      <th>0</th>\n",
       "      <td></td>\n",
       "      <td></td>\n",
       "      <td>P</td>\n",
       "    </tr>\n",
       "  </tbody>\n",
       "</table>\n",
       "</div>"
      ],
      "text/plain": [
       "  UpdateDate PhoneNumber CustomerType\n",
       "0                                   P"
      ]
     },
     "execution_count": 192,
     "metadata": {},
     "output_type": "execute_result"
    }
   ],
   "source": [
    "\"AnalyticProfile\""
   ]
  },
  {
   "cell_type": "code",
   "execution_count": null,
   "metadata": {},
   "outputs": [],
   "source": [
    "\"EnrichedData\""
   ]
  },
  {
   "cell_type": "code",
   "execution_count": 189,
   "metadata": {},
   "outputs": [
    {
     "data": {
      "text/plain": [
       "Index(['ECIFID', 'TotalHHIncomeYrly', 'SaveAcctRef', 'TotalMthlyExpenses',\n",
       "       'TotalHHIncomeMthly', 'IncomeReviewIndicator', 'ChannelList',\n",
       "       'DateOfBirth', 'FirstServiceDate', 'OccCombCode', 'SpouseHHIncomeMthly',\n",
       "       'pySSN', 'IsSelfEmployed', 'Duration', 'TotalPerIncomeMthly',\n",
       "       'OtherIncome', 'CheqAcctRef', 'ResidentialStatus', 'TotalMthlyLiabAmt',\n",
       "       'ServicedByIndicator', 'pxSubscript', 'SpouseHHIncomeYrly',\n",
       "       'CNW.IncomeList', 'EnrichedData.UpdateDate', 'EnrichedData.PhoneNumber',\n",
       "       'EnrichedData.CustomerType', 'CBR.OutputFormatCode',\n",
       "       'CBR.DepositAlertFlag', 'CBR.SegmentID', 'CBR.DateReported',\n",
       "       'CBR.SafeScanCode2', 'CBR.TradeDetails', 'CBR.MonthsToCountMaxDel',\n",
       "       'CBR.Inquiries', 'CBR.InFileSince', 'CBR.CreditFileWarning',\n",
       "       'CBR.ConsumerReferralCode', 'CBR.SegmentCounters', 'CBR.CBScore',\n",
       "       'CBR.ProductHeader.ProductCode', 'CBR.LanguageInd',\n",
       "       'CBR.MonthsToCountInquiry', 'CBR.SafeScanCode', 'CBR.CBRProvider',\n",
       "       'CBR.TransactionControl.TransactionTime',\n",
       "       'CBR.TransactionControl.pyCountry',\n",
       "       'CBR.TransactionControl.LanguageInd',\n",
       "       'CBR.TransactionControl.IndustryCode',\n",
       "       'CBR.TransactionControl.BureauMarket',\n",
       "       'CBR.TransactionControl.ReferenceNum',\n",
       "       'CBR.TransactionControl.BureauSubmarket',\n",
       "       'CBR.TransactionControl.VersionSwitch',\n",
       "       'CBR.TransactionControl.MemberCode',\n",
       "       'CBR.TransactionControl.TransactionDate', 'CBR.MemberCode',\n",
       "       'CBR.Bankruptcy', 'CBR.NumOfDependents', 'CBR.ReferenceNumber',\n",
       "       'CBR.HitOrNoHit', 'CBR.CBRClientDetails.DateOfBirth',\n",
       "       'CBR.CBRClientDetails.pyNameSuffix', 'CBR.CBRClientDetails.pyFirstName',\n",
       "       'CBR.CBRClientDetails.Address', 'CBR.CBRClientDetails.pySSN',\n",
       "       'CBR.CBRClientDetails.SpouseInfo.pyFirstName',\n",
       "       'CBR.CBRClientDetails.SpouseInfo.pySSN',\n",
       "       'CBR.CBRClientDetails.MiddleName', 'CBR.CBRClientDetails.pyLastName',\n",
       "       'CBR.DateLastActivity', 'CBR.OtherSubjectInfo.EmploymentInfo',\n",
       "       'CBR.NumOfInquiries', 'CBR.MaritalStatus', 'CBR.ECOAInquiryType',\n",
       "       'CBR.RetrievalTimeStamp', 'CBR.SecuredLoan', 'CBR.MultipleFileInd',\n",
       "       'CBR.CardAlertFlag', 'AnalyticProfile.TotalNoRSMProdSvcs',\n",
       "       'AnalyticProfile.RBSSResponseCode', 'AnalyticProfile.PBISIndicator',\n",
       "       'AnalyticProfile.TRIScore', 'AnalyticProfile.VIPCCIndicator',\n",
       "       'AnalyticProfile.CustomerNet1stAccPeriod',\n",
       "       'AnalyticProfile.SecurityIndicator'],\n",
       "      dtype='object')"
      ]
     },
     "execution_count": 189,
     "metadata": {},
     "output_type": "execute_result"
    }
   ],
   "source": [
    "new_add.keys()"
   ]
  },
  {
   "cell_type": "code",
   "execution_count": 275,
   "metadata": {},
   "outputs": [],
   "source": [
    "CBR = pd.json_normalize(df.iloc[0]['ClientDetails']['CBR']['TradeDetails'])"
   ]
  },
  {
   "cell_type": "code",
   "execution_count": 279,
   "metadata": {},
   "outputs": [
    {
     "data": {
      "text/html": [
       "<div>\n",
       "<style scoped>\n",
       "    .dataframe tbody tr th:only-of-type {\n",
       "        vertical-align: middle;\n",
       "    }\n",
       "\n",
       "    .dataframe tbody tr th {\n",
       "        vertical-align: top;\n",
       "    }\n",
       "\n",
       "    .dataframe thead th {\n",
       "        text-align: right;\n",
       "    }\n",
       "</style>\n",
       "<table border=\"1\" class=\"dataframe\">\n",
       "  <thead>\n",
       "    <tr style=\"text-align: right;\">\n",
       "      <th></th>\n",
       "      <th>DateOpened</th>\n",
       "      <th>AutoDataInd</th>\n",
       "      <th>MonthPastDue</th>\n",
       "      <th>DateReported</th>\n",
       "      <th>SegmentID</th>\n",
       "      <th>NoOfMthsReviewed</th>\n",
       "      <th>Terms</th>\n",
       "      <th>ThreeMonthsPastDue</th>\n",
       "      <th>NarrativeCode</th>\n",
       "      <th>PastDueAmount</th>\n",
       "      <th>...</th>\n",
       "      <th>TradeBalance</th>\n",
       "      <th>RateCode</th>\n",
       "      <th>AcctDesignatorCode</th>\n",
       "      <th>MemberName</th>\n",
       "      <th>TwoMonthsPastDue</th>\n",
       "      <th>MemberCode</th>\n",
       "      <th>HighCredit</th>\n",
       "      <th>Phone.Extension</th>\n",
       "      <th>Phone.AreaCode</th>\n",
       "      <th>Phone.PhoneNumber</th>\n",
       "    </tr>\n",
       "  </thead>\n",
       "  <tbody>\n",
       "    <tr>\n",
       "      <th>0</th>\n",
       "      <td>20120201</td>\n",
       "      <td></td>\n",
       "      <td>00</td>\n",
       "      <td>20200101</td>\n",
       "      <td>TC</td>\n",
       "      <td>01</td>\n",
       "      <td>0066</td>\n",
       "      <td>00</td>\n",
       "      <td>[EX, AZ]</td>\n",
       "      <td>0</td>\n",
       "      <td>...</td>\n",
       "      <td>0120</td>\n",
       "      <td>(1)</td>\n",
       "      <td>I</td>\n",
       "      <td>DUO BANK</td>\n",
       "      <td>00</td>\n",
       "      <td>650ON42592</td>\n",
       "      <td>20000</td>\n",
       "      <td></td>\n",
       "      <td>888</td>\n",
       "      <td>3316133</td>\n",
       "    </tr>\n",
       "    <tr>\n",
       "      <th>1</th>\n",
       "      <td>20080201</td>\n",
       "      <td></td>\n",
       "      <td>00</td>\n",
       "      <td>20200101</td>\n",
       "      <td>TC</td>\n",
       "      <td>01</td>\n",
       "      <td>0066</td>\n",
       "      <td>00</td>\n",
       "      <td>[EX, AZ]</td>\n",
       "      <td>0</td>\n",
       "      <td>...</td>\n",
       "      <td>0120</td>\n",
       "      <td>(1)</td>\n",
       "      <td>I</td>\n",
       "      <td>DUO BANK</td>\n",
       "      <td>00</td>\n",
       "      <td>650ON42592</td>\n",
       "      <td>20000</td>\n",
       "      <td></td>\n",
       "      <td>888</td>\n",
       "      <td>3316133</td>\n",
       "    </tr>\n",
       "    <tr>\n",
       "      <th>2</th>\n",
       "      <td>20160101</td>\n",
       "      <td></td>\n",
       "      <td>00</td>\n",
       "      <td>20190201</td>\n",
       "      <td>TC</td>\n",
       "      <td></td>\n",
       "      <td>2243</td>\n",
       "      <td>00</td>\n",
       "      <td>[EX, AZ]</td>\n",
       "      <td>0</td>\n",
       "      <td>...</td>\n",
       "      <td>3239</td>\n",
       "      <td>(9)</td>\n",
       "      <td>I</td>\n",
       "      <td>CIBC CARD SERVICES</td>\n",
       "      <td>00</td>\n",
       "      <td>650ON00598</td>\n",
       "      <td>1243</td>\n",
       "      <td></td>\n",
       "      <td>0</td>\n",
       "      <td></td>\n",
       "    </tr>\n",
       "    <tr>\n",
       "      <th>3</th>\n",
       "      <td>20190201</td>\n",
       "      <td></td>\n",
       "      <td>00</td>\n",
       "      <td>20191101</td>\n",
       "      <td>TC</td>\n",
       "      <td>01</td>\n",
       "      <td>0302</td>\n",
       "      <td>01</td>\n",
       "      <td>[EX, AZ]</td>\n",
       "      <td>0</td>\n",
       "      <td>...</td>\n",
       "      <td>0202</td>\n",
       "      <td>(4)</td>\n",
       "      <td>I</td>\n",
       "      <td>TOTAL CREDIT RECOVER</td>\n",
       "      <td>00</td>\n",
       "      <td>481YC00382</td>\n",
       "      <td>5002</td>\n",
       "      <td></td>\n",
       "      <td>800</td>\n",
       "      <td>2672482</td>\n",
       "    </tr>\n",
       "  </tbody>\n",
       "</table>\n",
       "<p>4 rows × 25 columns</p>\n",
       "</div>"
      ],
      "text/plain": [
       "  DateOpened AutoDataInd MonthPastDue DateReported SegmentID NoOfMthsReviewed  \\\n",
       "0   20120201                       00     20200101        TC               01   \n",
       "1   20080201                       00     20200101        TC               01   \n",
       "2   20160101                       00     20190201        TC                    \n",
       "3   20190201                       00     20191101        TC               01   \n",
       "\n",
       "  Terms ThreeMonthsPastDue NarrativeCode PastDueAmount  ... TradeBalance  \\\n",
       "0  0066                 00      [EX, AZ]             0  ...         0120   \n",
       "1  0066                 00      [EX, AZ]             0  ...         0120   \n",
       "2  2243                 00      [EX, AZ]             0  ...         3239   \n",
       "3  0302                 01      [EX, AZ]             0  ...         0202   \n",
       "\n",
       "  RateCode AcctDesignatorCode            MemberName TwoMonthsPastDue  \\\n",
       "0      (1)                  I              DUO BANK               00   \n",
       "1      (1)                  I              DUO BANK               00   \n",
       "2      (9)                  I    CIBC CARD SERVICES               00   \n",
       "3      (4)                  I  TOTAL CREDIT RECOVER               00   \n",
       "\n",
       "   MemberCode HighCredit Phone.Extension Phone.AreaCode Phone.PhoneNumber  \n",
       "0  650ON42592      20000                            888           3316133  \n",
       "1  650ON42592      20000                            888           3316133  \n",
       "2  650ON00598       1243                              0                    \n",
       "3  481YC00382       5002                            800           2672482  \n",
       "\n",
       "[4 rows x 25 columns]"
      ]
     },
     "execution_count": 279,
     "metadata": {},
     "output_type": "execute_result"
    }
   ],
   "source": [
    "CBR"
   ]
  },
  {
   "cell_type": "code",
   "execution_count": 224,
   "metadata": {},
   "outputs": [
    {
     "data": {
      "text/plain": [
       "dict_values(['1'])"
      ]
     },
     "execution_count": 224,
     "metadata": {},
     "output_type": "execute_result"
    }
   ],
   "source": [
    "CBR['RateCode'][0][0].values()"
   ]
  },
  {
   "cell_type": "code",
   "execution_count": 227,
   "metadata": {},
   "outputs": [
    {
     "ename": "TypeError",
     "evalue": "'dict_values' object is not callable",
     "output_type": "error",
     "traceback": [
      "\u001b[1;31m---------------------------------------------------------------------------\u001b[0m",
      "\u001b[1;31mTypeError\u001b[0m                                 Traceback (most recent call last)",
      "\u001b[1;32m<ipython-input-227-612c2e4e92f5>\u001b[0m in \u001b[0;36m<module>\u001b[1;34m\u001b[0m\n\u001b[1;32m----> 1\u001b[1;33m \u001b[0mCBR\u001b[0m\u001b[1;33m[\u001b[0m\u001b[1;34m'RateCode'\u001b[0m\u001b[1;33m]\u001b[0m \u001b[1;33m=\u001b[0m \u001b[0mCBR\u001b[0m\u001b[1;33m[\u001b[0m\u001b[1;34m'RateCode'\u001b[0m\u001b[1;33m]\u001b[0m\u001b[1;33m.\u001b[0m\u001b[0mapply\u001b[0m\u001b[1;33m(\u001b[0m\u001b[0mCBR\u001b[0m\u001b[1;33m[\u001b[0m\u001b[1;34m'RateCode'\u001b[0m\u001b[1;33m]\u001b[0m\u001b[1;33m[\u001b[0m\u001b[1;36m0\u001b[0m\u001b[1;33m]\u001b[0m\u001b[1;33m[\u001b[0m\u001b[1;36m0\u001b[0m\u001b[1;33m]\u001b[0m\u001b[1;33m.\u001b[0m\u001b[0mvalues\u001b[0m\u001b[1;33m(\u001b[0m\u001b[1;33m)\u001b[0m\u001b[1;33m)\u001b[0m\u001b[1;33m\u001b[0m\u001b[1;33m\u001b[0m\u001b[0m\n\u001b[0m",
      "\u001b[1;32m~\\anaconda3\\lib\\site-packages\\pandas\\core\\series.py\u001b[0m in \u001b[0;36mapply\u001b[1;34m(self, func, convert_dtype, args, **kwds)\u001b[0m\n\u001b[0;32m   3846\u001b[0m             \u001b[1;32melse\u001b[0m\u001b[1;33m:\u001b[0m\u001b[1;33m\u001b[0m\u001b[1;33m\u001b[0m\u001b[0m\n\u001b[0;32m   3847\u001b[0m                 \u001b[0mvalues\u001b[0m \u001b[1;33m=\u001b[0m \u001b[0mself\u001b[0m\u001b[1;33m.\u001b[0m\u001b[0mastype\u001b[0m\u001b[1;33m(\u001b[0m\u001b[0mobject\u001b[0m\u001b[1;33m)\u001b[0m\u001b[1;33m.\u001b[0m\u001b[0mvalues\u001b[0m\u001b[1;33m\u001b[0m\u001b[1;33m\u001b[0m\u001b[0m\n\u001b[1;32m-> 3848\u001b[1;33m                 \u001b[0mmapped\u001b[0m \u001b[1;33m=\u001b[0m \u001b[0mlib\u001b[0m\u001b[1;33m.\u001b[0m\u001b[0mmap_infer\u001b[0m\u001b[1;33m(\u001b[0m\u001b[0mvalues\u001b[0m\u001b[1;33m,\u001b[0m \u001b[0mf\u001b[0m\u001b[1;33m,\u001b[0m \u001b[0mconvert\u001b[0m\u001b[1;33m=\u001b[0m\u001b[0mconvert_dtype\u001b[0m\u001b[1;33m)\u001b[0m\u001b[1;33m\u001b[0m\u001b[1;33m\u001b[0m\u001b[0m\n\u001b[0m\u001b[0;32m   3849\u001b[0m \u001b[1;33m\u001b[0m\u001b[0m\n\u001b[0;32m   3850\u001b[0m         \u001b[1;32mif\u001b[0m \u001b[0mlen\u001b[0m\u001b[1;33m(\u001b[0m\u001b[0mmapped\u001b[0m\u001b[1;33m)\u001b[0m \u001b[1;32mand\u001b[0m \u001b[0misinstance\u001b[0m\u001b[1;33m(\u001b[0m\u001b[0mmapped\u001b[0m\u001b[1;33m[\u001b[0m\u001b[1;36m0\u001b[0m\u001b[1;33m]\u001b[0m\u001b[1;33m,\u001b[0m \u001b[0mSeries\u001b[0m\u001b[1;33m)\u001b[0m\u001b[1;33m:\u001b[0m\u001b[1;33m\u001b[0m\u001b[1;33m\u001b[0m\u001b[0m\n",
      "\u001b[1;32mpandas\\_libs\\lib.pyx\u001b[0m in \u001b[0;36mpandas._libs.lib.map_infer\u001b[1;34m()\u001b[0m\n",
      "\u001b[1;31mTypeError\u001b[0m: 'dict_values' object is not callable"
     ]
    }
   ],
   "source": [
    "CBR['RateCode'] = CBR['RateCode'].apply(CBR['RateCode'][0][0].values())"
   ]
  },
  {
   "cell_type": "code",
   "execution_count": 234,
   "metadata": {},
   "outputs": [
    {
     "data": {
      "text/plain": [
       "0    [{'Rating': '1'}]\n",
       "1    [{'Rating': '1'}]\n",
       "2    [{'Rating': '9'}]\n",
       "3    [{'Rating': '4'}]\n",
       "Name: RateCode, dtype: object"
      ]
     },
     "execution_count": 234,
     "metadata": {},
     "output_type": "execute_result"
    }
   ],
   "source": [
    "CBR['RateCode']"
   ]
  },
  {
   "cell_type": "code",
   "execution_count": 263,
   "metadata": {},
   "outputs": [
    {
     "ename": "SyntaxError",
     "evalue": "invalid syntax (<ipython-input-263-b00656566962>, line 1)",
     "output_type": "error",
     "traceback": [
      "\u001b[1;36m  File \u001b[1;32m\"<ipython-input-263-b00656566962>\"\u001b[1;36m, line \u001b[1;32m1\u001b[0m\n\u001b[1;33m    CBR['Rate_Code'] = pd.DataFrame(CBR['RateCode']values())\u001b[0m\n\u001b[1;37m                                                        ^\u001b[0m\n\u001b[1;31mSyntaxError\u001b[0m\u001b[1;31m:\u001b[0m invalid syntax\n"
     ]
    }
   ],
   "source": [
    "CBR['Rate_Code'] = pd.DataFrame(CBR['RateCode']values())"
   ]
  },
  {
   "cell_type": "code",
   "execution_count": 252,
   "metadata": {},
   "outputs": [
    {
     "data": {
      "text/html": [
       "<div>\n",
       "<style scoped>\n",
       "    .dataframe tbody tr th:only-of-type {\n",
       "        vertical-align: middle;\n",
       "    }\n",
       "\n",
       "    .dataframe tbody tr th {\n",
       "        vertical-align: top;\n",
       "    }\n",
       "\n",
       "    .dataframe thead th {\n",
       "        text-align: right;\n",
       "    }\n",
       "</style>\n",
       "<table border=\"1\" class=\"dataframe\">\n",
       "  <thead>\n",
       "    <tr style=\"text-align: right;\">\n",
       "      <th></th>\n",
       "      <th>OutputFormatCode</th>\n",
       "      <th>DepositAlertFlag</th>\n",
       "      <th>SegmentID</th>\n",
       "      <th>DateReported</th>\n",
       "      <th>SafeScanCode2</th>\n",
       "      <th>TradeDetails</th>\n",
       "      <th>MonthsToCountMaxDel</th>\n",
       "      <th>Inquiries</th>\n",
       "      <th>InFileSince</th>\n",
       "      <th>CreditFileWarning</th>\n",
       "      <th>...</th>\n",
       "      <th>CBRClientDetails.DateOfBirth</th>\n",
       "      <th>CBRClientDetails.pyNameSuffix</th>\n",
       "      <th>CBRClientDetails.pyFirstName</th>\n",
       "      <th>CBRClientDetails.Address</th>\n",
       "      <th>CBRClientDetails.pySSN</th>\n",
       "      <th>CBRClientDetails.SpouseInfo.pyFirstName</th>\n",
       "      <th>CBRClientDetails.SpouseInfo.pySSN</th>\n",
       "      <th>CBRClientDetails.MiddleName</th>\n",
       "      <th>CBRClientDetails.pyLastName</th>\n",
       "      <th>OtherSubjectInfo.EmploymentInfo</th>\n",
       "    </tr>\n",
       "  </thead>\n",
       "  <tbody>\n",
       "    <tr>\n",
       "      <th>0</th>\n",
       "      <td>E</td>\n",
       "      <td>N</td>\n",
       "      <td>FULL</td>\n",
       "      <td>20200206</td>\n",
       "      <td></td>\n",
       "      <td>[{'DateOpened': '20120201', 'AutoDataInd': '',...</td>\n",
       "      <td></td>\n",
       "      <td>[{'pyID': 'IQ5', 'NameOfMember': 'BIZ2CREDIT I...</td>\n",
       "      <td>20191114</td>\n",
       "      <td></td>\n",
       "      <td>...</td>\n",
       "      <td>19470420</td>\n",
       "      <td></td>\n",
       "      <td>JALISA</td>\n",
       "      <td>[{'PostalAddress': {'IndCode': 'C', 'RentOwnBo...</td>\n",
       "      <td></td>\n",
       "      <td></td>\n",
       "      <td></td>\n",
       "      <td></td>\n",
       "      <td>TESTALBRITTON</td>\n",
       "      <td>[{'CompanyName': '', 'VerificationStatus': '',...</td>\n",
       "    </tr>\n",
       "  </tbody>\n",
       "</table>\n",
       "<p>1 rows × 51 columns</p>\n",
       "</div>"
      ],
      "text/plain": [
       "  OutputFormatCode DepositAlertFlag SegmentID DateReported SafeScanCode2  \\\n",
       "0                E                N      FULL     20200206                 \n",
       "\n",
       "                                        TradeDetails MonthsToCountMaxDel  \\\n",
       "0  [{'DateOpened': '20120201', 'AutoDataInd': '',...                       \n",
       "\n",
       "                                           Inquiries InFileSince  \\\n",
       "0  [{'pyID': 'IQ5', 'NameOfMember': 'BIZ2CREDIT I...    20191114   \n",
       "\n",
       "  CreditFileWarning  ... CBRClientDetails.DateOfBirth  \\\n",
       "0                    ...                     19470420   \n",
       "\n",
       "  CBRClientDetails.pyNameSuffix CBRClientDetails.pyFirstName  \\\n",
       "0                                                     JALISA   \n",
       "\n",
       "                            CBRClientDetails.Address CBRClientDetails.pySSN  \\\n",
       "0  [{'PostalAddress': {'IndCode': 'C', 'RentOwnBo...                          \n",
       "\n",
       "  CBRClientDetails.SpouseInfo.pyFirstName CBRClientDetails.SpouseInfo.pySSN  \\\n",
       "0                                                                             \n",
       "\n",
       "  CBRClientDetails.MiddleName CBRClientDetails.pyLastName  \\\n",
       "0                                           TESTALBRITTON   \n",
       "\n",
       "                     OtherSubjectInfo.EmploymentInfo  \n",
       "0  [{'CompanyName': '', 'VerificationStatus': '',...  \n",
       "\n",
       "[1 rows x 51 columns]"
      ]
     },
     "execution_count": 252,
     "metadata": {},
     "output_type": "execute_result"
    }
   ],
   "source": [
    "cbr"
   ]
  },
  {
   "cell_type": "code",
   "execution_count": 278,
   "metadata": {},
   "outputs": [],
   "source": [
    "CBR['RateCode']= CBR['RateCode'].apply(lambda x : x[0].values())"
   ]
  },
  {
   "cell_type": "code",
   "execution_count": 273,
   "metadata": {
    "scrolled": true
   },
   "outputs": [
    {
     "data": {
      "text/html": [
       "<div>\n",
       "<style scoped>\n",
       "    .dataframe tbody tr th:only-of-type {\n",
       "        vertical-align: middle;\n",
       "    }\n",
       "\n",
       "    .dataframe tbody tr th {\n",
       "        vertical-align: top;\n",
       "    }\n",
       "\n",
       "    .dataframe thead th {\n",
       "        text-align: right;\n",
       "    }\n",
       "</style>\n",
       "<table border=\"1\" class=\"dataframe\">\n",
       "  <thead>\n",
       "    <tr style=\"text-align: right;\">\n",
       "      <th></th>\n",
       "      <th>Rate_Code</th>\n",
       "      <th>RateCode</th>\n",
       "    </tr>\n",
       "  </thead>\n",
       "  <tbody>\n",
       "    <tr>\n",
       "      <th>0</th>\n",
       "      <td>(1)</td>\n",
       "      <td>(1)</td>\n",
       "    </tr>\n",
       "    <tr>\n",
       "      <th>1</th>\n",
       "      <td>(1)</td>\n",
       "      <td>(1)</td>\n",
       "    </tr>\n",
       "    <tr>\n",
       "      <th>2</th>\n",
       "      <td>(9)</td>\n",
       "      <td>(9)</td>\n",
       "    </tr>\n",
       "    <tr>\n",
       "      <th>3</th>\n",
       "      <td>(4)</td>\n",
       "      <td>(4)</td>\n",
       "    </tr>\n",
       "  </tbody>\n",
       "</table>\n",
       "</div>"
      ],
      "text/plain": [
       "  Rate_Code RateCode\n",
       "0       (1)      (1)\n",
       "1       (1)      (1)\n",
       "2       (9)      (9)\n",
       "3       (4)      (4)"
      ]
     },
     "execution_count": 273,
     "metadata": {},
     "output_type": "execute_result"
    }
   ],
   "source": [
    "CBR[['Rate_Code','RateCode']]\n",
    "    "
   ]
  },
  {
   "cell_type": "code",
   "execution_count": 281,
   "metadata": {},
   "outputs": [],
   "source": [
    "inq = pd.json_normalize(df.iloc[0]['ClientDetails']['CBR']['Inquiries'])"
   ]
  },
  {
   "cell_type": "code",
   "execution_count": 283,
   "metadata": {},
   "outputs": [
    {
     "data": {
      "text/html": [
       "<div>\n",
       "<style scoped>\n",
       "    .dataframe tbody tr th:only-of-type {\n",
       "        vertical-align: middle;\n",
       "    }\n",
       "\n",
       "    .dataframe tbody tr th {\n",
       "        vertical-align: top;\n",
       "    }\n",
       "\n",
       "    .dataframe thead th {\n",
       "        text-align: right;\n",
       "    }\n",
       "</style>\n",
       "<table border=\"1\" class=\"dataframe\">\n",
       "  <thead>\n",
       "    <tr style=\"text-align: right;\">\n",
       "      <th></th>\n",
       "      <th>Inquiries.pyID</th>\n",
       "      <th>Inquiries.NameOfMember</th>\n",
       "      <th>Inquiries.SegmentID</th>\n",
       "      <th>Inquiries.DateOfInquiry</th>\n",
       "      <th>Inquiries.MemberCode</th>\n",
       "      <th>Inquiries.Phone.Extension</th>\n",
       "      <th>Inquiries.Phone.AreaCode</th>\n",
       "      <th>Inquiries.Phone.PhoneNumber</th>\n",
       "    </tr>\n",
       "  </thead>\n",
       "  <tbody>\n",
       "    <tr>\n",
       "      <th>0</th>\n",
       "      <td>IQ5</td>\n",
       "      <td>BIZ2CREDIT INC.</td>\n",
       "      <td>IQ</td>\n",
       "      <td>20191002</td>\n",
       "      <td>999ZZ02356</td>\n",
       "      <td></td>\n",
       "      <td>212</td>\n",
       "      <td>6444555</td>\n",
       "    </tr>\n",
       "    <tr>\n",
       "      <th>1</th>\n",
       "      <td>IQ8</td>\n",
       "      <td>ROUTEONE LLC</td>\n",
       "      <td>IQ</td>\n",
       "      <td>20190901</td>\n",
       "      <td>999ZZ01762</td>\n",
       "      <td></td>\n",
       "      <td>248</td>\n",
       "      <td>4557075</td>\n",
       "    </tr>\n",
       "    <tr>\n",
       "      <th>2</th>\n",
       "      <td>IQ14</td>\n",
       "      <td>NOVA CREDIT INC</td>\n",
       "      <td>IQ</td>\n",
       "      <td>20190801</td>\n",
       "      <td>999ZZ01564</td>\n",
       "      <td></td>\n",
       "      <td>844</td>\n",
       "      <td>4231345</td>\n",
       "    </tr>\n",
       "  </tbody>\n",
       "</table>\n",
       "</div>"
      ],
      "text/plain": [
       "  Inquiries.pyID Inquiries.NameOfMember Inquiries.SegmentID  \\\n",
       "0            IQ5        BIZ2CREDIT INC.                  IQ   \n",
       "1            IQ8           ROUTEONE LLC                  IQ   \n",
       "2           IQ14        NOVA CREDIT INC                  IQ   \n",
       "\n",
       "  Inquiries.DateOfInquiry Inquiries.MemberCode Inquiries.Phone.Extension  \\\n",
       "0                20191002           999ZZ02356                             \n",
       "1                20190901           999ZZ01762                             \n",
       "2                20190801           999ZZ01564                             \n",
       "\n",
       "   Inquiries.Phone.AreaCode Inquiries.Phone.PhoneNumber  \n",
       "0                       212                     6444555  \n",
       "1                       248                     4557075  \n",
       "2                       844                     4231345  "
      ]
     },
     "execution_count": 283,
     "metadata": {},
     "output_type": "execute_result"
    }
   ],
   "source": [
    "inq.rename(columns={\"pyID\": \"Inquiries.pyID\",\"NameOfMember\": \"Inquiries.NameOfMember\",\"SegmentID\": \"Inquiries.SegmentID\",\"DateOfInquiry\": \"Inquiries.DateOfInquiry\",\"MemberCode\": \"Inquiries.MemberCode\",\"Phone.Extension\": \"Inquiries.Phone.Extension\",\"Phone.AreaCode\": \"Inquiries.Phone.AreaCode\",\"Phone.PhoneNumber\": \"Inquiries.Phone.PhoneNumber\"} )"
   ]
  },
  {
   "cell_type": "code",
   "execution_count": 309,
   "metadata": {},
   "outputs": [],
   "source": [
    "CBScore =  pd.json_normalize(df.iloc[0]['ClientDetails']['CBR']['CBScore'])"
   ]
  },
  {
   "cell_type": "code",
   "execution_count": 312,
   "metadata": {},
   "outputs": [
    {
     "data": {
      "text/html": [
       "<div>\n",
       "<style scoped>\n",
       "    .dataframe tbody tr th:only-of-type {\n",
       "        vertical-align: middle;\n",
       "    }\n",
       "\n",
       "    .dataframe tbody tr th {\n",
       "        vertical-align: top;\n",
       "    }\n",
       "\n",
       "    .dataframe thead th {\n",
       "        text-align: right;\n",
       "    }\n",
       "</style>\n",
       "<table border=\"1\" class=\"dataframe\">\n",
       "  <thead>\n",
       "    <tr style=\"text-align: right;\">\n",
       "      <th></th>\n",
       "      <th>CBReasonCode</th>\n",
       "      <th>Score</th>\n",
       "      <th>ProductCode</th>\n",
       "      <th>SegmentID</th>\n",
       "      <th>RejectMsgCode</th>\n",
       "    </tr>\n",
       "  </thead>\n",
       "  <tbody>\n",
       "    <tr>\n",
       "      <th>0</th>\n",
       "      <td>[38, 13, 02, 20]</td>\n",
       "      <td>00600</td>\n",
       "      <td>BN</td>\n",
       "      <td>BS</td>\n",
       "      <td></td>\n",
       "    </tr>\n",
       "    <tr>\n",
       "      <th>1</th>\n",
       "      <td>[03, 77, 56, S0]</td>\n",
       "      <td>00865</td>\n",
       "      <td>BI</td>\n",
       "      <td>BS</td>\n",
       "      <td></td>\n",
       "    </tr>\n",
       "  </tbody>\n",
       "</table>\n",
       "</div>"
      ],
      "text/plain": [
       "       CBReasonCode  Score ProductCode SegmentID RejectMsgCode\n",
       "0  [38, 13, 02, 20]  00600          BN        BS              \n",
       "1  [03, 77, 56, S0]  00865          BI        BS              "
      ]
     },
     "execution_count": 312,
     "metadata": {},
     "output_type": "execute_result"
    }
   ],
   "source": [
    "CBScore"
   ]
  },
  {
   "cell_type": "code",
   "execution_count": 293,
   "metadata": {},
   "outputs": [
    {
     "data": {
      "text/plain": [
       "dict_values(['38'])"
      ]
     },
     "execution_count": 293,
     "metadata": {},
     "output_type": "execute_result"
    }
   ],
   "source": [
    "CBScore['CBReasonCode'][0][0].values()"
   ]
  },
  {
   "cell_type": "code",
   "execution_count": 302,
   "metadata": {},
   "outputs": [],
   "source": [
    "lis = pd.json_normalize(CBScore['CBReasonCode'][0]).ReasonCode.tolist()"
   ]
  },
  {
   "cell_type": "code",
   "execution_count": 303,
   "metadata": {},
   "outputs": [
    {
     "data": {
      "text/plain": [
       "['38', '13', '02', '20']"
      ]
     },
     "execution_count": 303,
     "metadata": {},
     "output_type": "execute_result"
    }
   ],
   "source": [
    "lis"
   ]
  },
  {
   "cell_type": "code",
   "execution_count": 301,
   "metadata": {},
   "outputs": [
    {
     "data": {
      "text/plain": [
       "['38', '13', '02', '20']"
      ]
     },
     "execution_count": 301,
     "metadata": {},
     "output_type": "execute_result"
    }
   ],
   "source": [
    "lis.ReasonCode.tolist()"
   ]
  },
  {
   "cell_type": "code",
   "execution_count": 311,
   "metadata": {},
   "outputs": [],
   "source": [
    "CBScore['CBReasonCode'] = CBScore['CBReasonCode'].apply(lambda x : pd.json_normalize(x).ReasonCode.tolist())"
   ]
  },
  {
   "cell_type": "code",
   "execution_count": 313,
   "metadata": {},
   "outputs": [],
   "source": [
    "ProductHeader = pd.json_normalize(df.iloc[0]['ClientDetails']['CBR']['ProductHeader'])"
   ]
  },
  {
   "cell_type": "code",
   "execution_count": 314,
   "metadata": {},
   "outputs": [
    {
     "data": {
      "text/html": [
       "<div>\n",
       "<style scoped>\n",
       "    .dataframe tbody tr th:only-of-type {\n",
       "        vertical-align: middle;\n",
       "    }\n",
       "\n",
       "    .dataframe tbody tr th {\n",
       "        vertical-align: top;\n",
       "    }\n",
       "\n",
       "    .dataframe thead th {\n",
       "        text-align: right;\n",
       "    }\n",
       "</style>\n",
       "<table border=\"1\" class=\"dataframe\">\n",
       "  <thead>\n",
       "    <tr style=\"text-align: right;\">\n",
       "      <th></th>\n",
       "      <th>ProductCode</th>\n",
       "    </tr>\n",
       "  </thead>\n",
       "  <tbody>\n",
       "    <tr>\n",
       "      <th>0</th>\n",
       "      <td></td>\n",
       "    </tr>\n",
       "  </tbody>\n",
       "</table>\n",
       "</div>"
      ],
      "text/plain": [
       "  ProductCode\n",
       "0            "
      ]
     },
     "execution_count": 314,
     "metadata": {},
     "output_type": "execute_result"
    }
   ],
   "source": [
    "ProductHeader"
   ]
  },
  {
   "cell_type": "code",
   "execution_count": 315,
   "metadata": {},
   "outputs": [],
   "source": [
    "TransactionControl = pd.json_normalize(df.iloc[0]['ClientDetails']['CBR']['TransactionControl'])"
   ]
  },
  {
   "cell_type": "code",
   "execution_count": 316,
   "metadata": {},
   "outputs": [
    {
     "data": {
      "text/html": [
       "<div>\n",
       "<style scoped>\n",
       "    .dataframe tbody tr th:only-of-type {\n",
       "        vertical-align: middle;\n",
       "    }\n",
       "\n",
       "    .dataframe tbody tr th {\n",
       "        vertical-align: top;\n",
       "    }\n",
       "\n",
       "    .dataframe thead th {\n",
       "        text-align: right;\n",
       "    }\n",
       "</style>\n",
       "<table border=\"1\" class=\"dataframe\">\n",
       "  <thead>\n",
       "    <tr style=\"text-align: right;\">\n",
       "      <th></th>\n",
       "      <th>TransactionTime</th>\n",
       "      <th>pyCountry</th>\n",
       "      <th>LanguageInd</th>\n",
       "      <th>IndustryCode</th>\n",
       "      <th>BureauMarket</th>\n",
       "      <th>ReferenceNum</th>\n",
       "      <th>BureauSubmarket</th>\n",
       "      <th>VersionSwitch</th>\n",
       "      <th>MemberCode</th>\n",
       "      <th>TransactionDate</th>\n",
       "    </tr>\n",
       "  </thead>\n",
       "  <tbody>\n",
       "    <tr>\n",
       "      <th>0</th>\n",
       "      <td></td>\n",
       "      <td></td>\n",
       "      <td></td>\n",
       "      <td></td>\n",
       "      <td></td>\n",
       "      <td></td>\n",
       "      <td></td>\n",
       "      <td></td>\n",
       "      <td></td>\n",
       "      <td></td>\n",
       "    </tr>\n",
       "  </tbody>\n",
       "</table>\n",
       "</div>"
      ],
      "text/plain": [
       "  TransactionTime pyCountry LanguageInd IndustryCode BureauMarket  \\\n",
       "0                                                                   \n",
       "\n",
       "  ReferenceNum BureauSubmarket VersionSwitch MemberCode TransactionDate  \n",
       "0                                                                        "
      ]
     },
     "execution_count": 316,
     "metadata": {},
     "output_type": "execute_result"
    }
   ],
   "source": [
    "TransactionControl"
   ]
  },
  {
   "cell_type": "code",
   "execution_count": 317,
   "metadata": {},
   "outputs": [],
   "source": [
    "Bankruptcy = pd.json_normalize(df.iloc[0]['ClientDetails']['CBR']['Bankruptcy'])"
   ]
  },
  {
   "cell_type": "code",
   "execution_count": 318,
   "metadata": {},
   "outputs": [
    {
     "data": {
      "text/html": [
       "<div>\n",
       "<style scoped>\n",
       "    .dataframe tbody tr th:only-of-type {\n",
       "        vertical-align: middle;\n",
       "    }\n",
       "\n",
       "    .dataframe tbody tr th {\n",
       "        vertical-align: top;\n",
       "    }\n",
       "\n",
       "    .dataframe thead th {\n",
       "        text-align: right;\n",
       "    }\n",
       "</style>\n",
       "<table border=\"1\" class=\"dataframe\">\n",
       "  <thead>\n",
       "    <tr style=\"text-align: right;\">\n",
       "      <th></th>\n",
       "      <th>CourtName</th>\n",
       "      <th>CourtNumber</th>\n",
       "      <th>SegmentID</th>\n",
       "      <th>NarrativeCode</th>\n",
       "      <th>DateFiled</th>\n",
       "      <th>TypeOfBankruptcy</th>\n",
       "      <th>DateSettled</th>\n",
       "      <th>pyID</th>\n",
       "      <th>ForeignBureauCode</th>\n",
       "      <th>AssetsValue</th>\n",
       "      <th>LiabilityAmount</th>\n",
       "      <th>CaseNumber</th>\n",
       "      <th>HowFiled</th>\n",
       "      <th>DispositionCode</th>\n",
       "    </tr>\n",
       "  </thead>\n",
       "  <tbody>\n",
       "    <tr>\n",
       "      <th>0</th>\n",
       "      <td>OFF SUP BKRPT</td>\n",
       "      <td>473VS00181</td>\n",
       "      <td>BP</td>\n",
       "      <td>[, ]</td>\n",
       "      <td>20191201</td>\n",
       "      <td>I</td>\n",
       "      <td></td>\n",
       "      <td>BP10</td>\n",
       "      <td></td>\n",
       "      <td>03000</td>\n",
       "      <td>08000</td>\n",
       "      <td>ROSEHIPS AND MINT TRUSTEES</td>\n",
       "      <td>S</td>\n",
       "      <td>B</td>\n",
       "    </tr>\n",
       "    <tr>\n",
       "      <th>1</th>\n",
       "      <td>OFF SUP BKRPT</td>\n",
       "      <td>473VS00181</td>\n",
       "      <td>BP</td>\n",
       "      <td>[, ]</td>\n",
       "      <td>20170501</td>\n",
       "      <td>I</td>\n",
       "      <td></td>\n",
       "      <td>BP13</td>\n",
       "      <td></td>\n",
       "      <td>03000</td>\n",
       "      <td>08000</td>\n",
       "      <td>BUBBLEGUM PARFAIT</td>\n",
       "      <td>S</td>\n",
       "      <td>B</td>\n",
       "    </tr>\n",
       "  </tbody>\n",
       "</table>\n",
       "</div>"
      ],
      "text/plain": [
       "       CourtName CourtNumber SegmentID NarrativeCode DateFiled  \\\n",
       "0  OFF SUP BKRPT  473VS00181        BP          [, ]  20191201   \n",
       "1  OFF SUP BKRPT  473VS00181        BP          [, ]  20170501   \n",
       "\n",
       "  TypeOfBankruptcy DateSettled  pyID ForeignBureauCode AssetsValue  \\\n",
       "0                I              BP10                         03000   \n",
       "1                I              BP13                         03000   \n",
       "\n",
       "  LiabilityAmount                  CaseNumber HowFiled DispositionCode  \n",
       "0           08000  ROSEHIPS AND MINT TRUSTEES        S               B  \n",
       "1           08000           BUBBLEGUM PARFAIT        S               B  "
      ]
     },
     "execution_count": 318,
     "metadata": {},
     "output_type": "execute_result"
    }
   ],
   "source": [
    "Bankruptcy"
   ]
  },
  {
   "cell_type": "code",
   "execution_count": 325,
   "metadata": {},
   "outputs": [],
   "source": [
    "CBRClientDetails = pd.json_normalize(df.iloc[0]['ClientDetails']['CBR']['CBRClientDetails'])\n",
    "CBRClientDetails = CBRClientDetails.drop(['Address'],axis = 1,errors='ignore')\n",
    "CBRClientDetails_Add = pd.json_normalize(df.iloc[0]['ClientDetails']['CBR']['CBRClientDetails']['Address'])\n",
    "CBRClientDetails_Full = pd.concat([CBRClientDetails,CBRClientDetails_Add],axis=1, sort=False)"
   ]
  },
  {
   "cell_type": "code",
   "execution_count": 326,
   "metadata": {},
   "outputs": [
    {
     "data": {
      "text/html": [
       "<div>\n",
       "<style scoped>\n",
       "    .dataframe tbody tr th:only-of-type {\n",
       "        vertical-align: middle;\n",
       "    }\n",
       "\n",
       "    .dataframe tbody tr th {\n",
       "        vertical-align: top;\n",
       "    }\n",
       "\n",
       "    .dataframe thead th {\n",
       "        text-align: right;\n",
       "    }\n",
       "</style>\n",
       "<table border=\"1\" class=\"dataframe\">\n",
       "  <thead>\n",
       "    <tr style=\"text-align: right;\">\n",
       "      <th></th>\n",
       "      <th>DateOfBirth</th>\n",
       "      <th>pyNameSuffix</th>\n",
       "      <th>pyFirstName</th>\n",
       "      <th>pySSN</th>\n",
       "      <th>MiddleName</th>\n",
       "      <th>pyLastName</th>\n",
       "      <th>SpouseInfo.pyFirstName</th>\n",
       "      <th>SpouseInfo.pySSN</th>\n",
       "      <th>SegmentID</th>\n",
       "      <th>PostalAddress.IndCode</th>\n",
       "      <th>PostalAddress.RentOwnBoard</th>\n",
       "      <th>PostalAddress.StreetNumber</th>\n",
       "      <th>PostalAddress.Street</th>\n",
       "      <th>PostalAddress.PostalCode</th>\n",
       "      <th>PostalAddress.City</th>\n",
       "      <th>PostalAddress.Province</th>\n",
       "      <th>PostalAddressDemographic.MovedInDate</th>\n",
       "    </tr>\n",
       "  </thead>\n",
       "  <tbody>\n",
       "    <tr>\n",
       "      <th>0</th>\n",
       "      <td>19470420</td>\n",
       "      <td></td>\n",
       "      <td>JALISA</td>\n",
       "      <td></td>\n",
       "      <td></td>\n",
       "      <td>TESTALBRITTON</td>\n",
       "      <td></td>\n",
       "      <td></td>\n",
       "      <td>CA</td>\n",
       "      <td>C</td>\n",
       "      <td></td>\n",
       "      <td>35</td>\n",
       "      <td>35 HUMBER RD</td>\n",
       "      <td>A2H1E4</td>\n",
       "      <td>CRBK</td>\n",
       "      <td>NL</td>\n",
       "      <td>20200201</td>\n",
       "    </tr>\n",
       "  </tbody>\n",
       "</table>\n",
       "</div>"
      ],
      "text/plain": [
       "  DateOfBirth pyNameSuffix pyFirstName pySSN MiddleName     pyLastName  \\\n",
       "0    19470420                   JALISA                   TESTALBRITTON   \n",
       "\n",
       "  SpouseInfo.pyFirstName SpouseInfo.pySSN SegmentID PostalAddress.IndCode  \\\n",
       "0                                                CA                     C   \n",
       "\n",
       "  PostalAddress.RentOwnBoard PostalAddress.StreetNumber PostalAddress.Street  \\\n",
       "0                                                    35         35 HUMBER RD   \n",
       "\n",
       "  PostalAddress.PostalCode PostalAddress.City PostalAddress.Province  \\\n",
       "0                   A2H1E4               CRBK                     NL   \n",
       "\n",
       "  PostalAddressDemographic.MovedInDate  \n",
       "0                             20200201  "
      ]
     },
     "execution_count": 326,
     "metadata": {},
     "output_type": "execute_result"
    }
   ],
   "source": [
    "CBRClientDetails_Full"
   ]
  },
  {
   "cell_type": "code",
   "execution_count": 321,
   "metadata": {},
   "outputs": [],
   "source": [
    "CBRClientDetails_Add = pd.json_normalize(df.iloc[0]['ClientDetails']['CBR']['CBRClientDetails']['Address'])"
   ]
  },
  {
   "cell_type": "code",
   "execution_count": 322,
   "metadata": {},
   "outputs": [
    {
     "data": {
      "text/html": [
       "<div>\n",
       "<style scoped>\n",
       "    .dataframe tbody tr th:only-of-type {\n",
       "        vertical-align: middle;\n",
       "    }\n",
       "\n",
       "    .dataframe tbody tr th {\n",
       "        vertical-align: top;\n",
       "    }\n",
       "\n",
       "    .dataframe thead th {\n",
       "        text-align: right;\n",
       "    }\n",
       "</style>\n",
       "<table border=\"1\" class=\"dataframe\">\n",
       "  <thead>\n",
       "    <tr style=\"text-align: right;\">\n",
       "      <th></th>\n",
       "      <th>SegmentID</th>\n",
       "      <th>PostalAddress.IndCode</th>\n",
       "      <th>PostalAddress.RentOwnBoard</th>\n",
       "      <th>PostalAddress.StreetNumber</th>\n",
       "      <th>PostalAddress.Street</th>\n",
       "      <th>PostalAddress.PostalCode</th>\n",
       "      <th>PostalAddress.City</th>\n",
       "      <th>PostalAddress.Province</th>\n",
       "      <th>PostalAddressDemographic.MovedInDate</th>\n",
       "    </tr>\n",
       "  </thead>\n",
       "  <tbody>\n",
       "    <tr>\n",
       "      <th>0</th>\n",
       "      <td>CA</td>\n",
       "      <td>C</td>\n",
       "      <td></td>\n",
       "      <td>35</td>\n",
       "      <td>35 HUMBER RD</td>\n",
       "      <td>A2H1E4</td>\n",
       "      <td>CRBK</td>\n",
       "      <td>NL</td>\n",
       "      <td>20200201</td>\n",
       "    </tr>\n",
       "  </tbody>\n",
       "</table>\n",
       "</div>"
      ],
      "text/plain": [
       "  SegmentID PostalAddress.IndCode PostalAddress.RentOwnBoard  \\\n",
       "0        CA                     C                              \n",
       "\n",
       "  PostalAddress.StreetNumber PostalAddress.Street PostalAddress.PostalCode  \\\n",
       "0                         35         35 HUMBER RD                   A2H1E4   \n",
       "\n",
       "  PostalAddress.City PostalAddress.Province  \\\n",
       "0               CRBK                     NL   \n",
       "\n",
       "  PostalAddressDemographic.MovedInDate  \n",
       "0                             20200201  "
      ]
     },
     "execution_count": 322,
     "metadata": {},
     "output_type": "execute_result"
    }
   ],
   "source": [
    "CBRClientDetails_Add"
   ]
  },
  {
   "cell_type": "code",
   "execution_count": 330,
   "metadata": {},
   "outputs": [],
   "source": [
    "CBRClientDetails_name =   'CBRClientDetails.'+CBRClientDetails_Add.columns"
   ]
  },
  {
   "cell_type": "code",
   "execution_count": 331,
   "metadata": {},
   "outputs": [
    {
     "data": {
      "text/plain": [
       "Index(['CBRClientDetails.SegmentID', 'CBRClientDetails.PostalAddress.IndCode',\n",
       "       'CBRClientDetails.PostalAddress.RentOwnBoard',\n",
       "       'CBRClientDetails.PostalAddress.StreetNumber',\n",
       "       'CBRClientDetails.PostalAddress.Street',\n",
       "       'CBRClientDetails.PostalAddress.PostalCode',\n",
       "       'CBRClientDetails.PostalAddress.City',\n",
       "       'CBRClientDetails.PostalAddress.Province',\n",
       "       'CBRClientDetails.PostalAddressDemographic.MovedInDate'],\n",
       "      dtype='object')"
      ]
     },
     "execution_count": 331,
     "metadata": {},
     "output_type": "execute_result"
    }
   ],
   "source": [
    "CBRClientDetails_name"
   ]
  },
  {
   "cell_type": "code",
   "execution_count": 335,
   "metadata": {},
   "outputs": [],
   "source": [
    "OtherSubjectInfo  = pd.json_normalize(df.iloc[0]['ClientDetails']['CBR']['OtherSubjectInfo']['EmploymentInfo'])"
   ]
  },
  {
   "cell_type": "code",
   "execution_count": 336,
   "metadata": {},
   "outputs": [
    {
     "data": {
      "text/html": [
       "<div>\n",
       "<style scoped>\n",
       "    .dataframe tbody tr th:only-of-type {\n",
       "        vertical-align: middle;\n",
       "    }\n",
       "\n",
       "    .dataframe tbody tr th {\n",
       "        vertical-align: top;\n",
       "    }\n",
       "\n",
       "    .dataframe thead th {\n",
       "        text-align: right;\n",
       "    }\n",
       "</style>\n",
       "<table border=\"1\" class=\"dataframe\">\n",
       "  <thead>\n",
       "    <tr style=\"text-align: right;\">\n",
       "      <th></th>\n",
       "      <th>CompanyName</th>\n",
       "      <th>VerificationStatus</th>\n",
       "      <th>Salary</th>\n",
       "      <th>DateReported</th>\n",
       "      <th>SegmentID</th>\n",
       "      <th>EmpStDate</th>\n",
       "      <th>EmpEndDate</th>\n",
       "      <th>OccupationID</th>\n",
       "      <th>CompanyAddressInfo.PostalAddress.City</th>\n",
       "      <th>CompanyAddressInfo.PostalAddress.Province</th>\n",
       "    </tr>\n",
       "  </thead>\n",
       "  <tbody>\n",
       "    <tr>\n",
       "      <th>0</th>\n",
       "      <td></td>\n",
       "      <td></td>\n",
       "      <td></td>\n",
       "      <td></td>\n",
       "      <td>ES</td>\n",
       "      <td></td>\n",
       "      <td></td>\n",
       "      <td>STS TEST</td>\n",
       "      <td></td>\n",
       "      <td></td>\n",
       "    </tr>\n",
       "  </tbody>\n",
       "</table>\n",
       "</div>"
      ],
      "text/plain": [
       "  CompanyName VerificationStatus Salary DateReported SegmentID EmpStDate  \\\n",
       "0                                                           ES             \n",
       "\n",
       "  EmpEndDate OccupationID CompanyAddressInfo.PostalAddress.City  \\\n",
       "0                STS TEST                                         \n",
       "\n",
       "  CompanyAddressInfo.PostalAddress.Province  \n",
       "0                                            "
      ]
     },
     "execution_count": 336,
     "metadata": {},
     "output_type": "execute_result"
    }
   ],
   "source": [
    "OtherSubjectInfo"
   ]
  },
  {
   "cell_type": "code",
   "execution_count": 337,
   "metadata": {},
   "outputs": [],
   "source": [
    "SecuredLoan = pd.json_normalize(df.iloc[0]['ClientDetails']['CBR']['SecuredLoan'])"
   ]
  },
  {
   "cell_type": "code",
   "execution_count": 338,
   "metadata": {},
   "outputs": [
    {
     "data": {
      "text/html": [
       "<div>\n",
       "<style scoped>\n",
       "    .dataframe tbody tr th:only-of-type {\n",
       "        vertical-align: middle;\n",
       "    }\n",
       "\n",
       "    .dataframe tbody tr th {\n",
       "        vertical-align: top;\n",
       "    }\n",
       "\n",
       "    .dataframe thead th {\n",
       "        text-align: right;\n",
       "    }\n",
       "</style>\n",
       "<table border=\"1\" class=\"dataframe\">\n",
       "  <thead>\n",
       "    <tr style=\"text-align: right;\">\n",
       "      <th></th>\n",
       "      <th>pyID</th>\n",
       "      <th>ForeignBureauCode</th>\n",
       "      <th>CourtName</th>\n",
       "      <th>CourtNumber</th>\n",
       "      <th>IndustryCode</th>\n",
       "      <th>SegmentID</th>\n",
       "      <th>NarrativeCode</th>\n",
       "      <th>MaturityDate</th>\n",
       "      <th>CredNameAddrAmt</th>\n",
       "      <th>DateFiled</th>\n",
       "    </tr>\n",
       "  </thead>\n",
       "  <tbody>\n",
       "    <tr>\n",
       "      <th>0</th>\n",
       "      <td>SL3</td>\n",
       "      <td></td>\n",
       "      <td>METCREDIT 8887977727</td>\n",
       "      <td>650YC00066</td>\n",
       "      <td>FM</td>\n",
       "      <td>FM</td>\n",
       "      <td>[, ]</td>\n",
       "      <td>20180401</td>\n",
       "      <td>R U BIXCUBE GEOMETRY SERVICES</td>\n",
       "      <td>20180601</td>\n",
       "    </tr>\n",
       "  </tbody>\n",
       "</table>\n",
       "</div>"
      ],
      "text/plain": [
       "  pyID ForeignBureauCode             CourtName CourtNumber IndustryCode  \\\n",
       "0  SL3                    METCREDIT 8887977727  650YC00066           FM   \n",
       "\n",
       "  SegmentID NarrativeCode MaturityDate                CredNameAddrAmt  \\\n",
       "0        FM          [, ]     20180401  R U BIXCUBE GEOMETRY SERVICES   \n",
       "\n",
       "  DateFiled  \n",
       "0  20180601  "
      ]
     },
     "execution_count": 338,
     "metadata": {},
     "output_type": "execute_result"
    }
   ],
   "source": [
    "SecuredLoan"
   ]
  },
  {
   "cell_type": "code",
   "execution_count": 348,
   "metadata": {},
   "outputs": [],
   "source": [
    "cbr_Bal_Full  = pd.json_normalize(df.iloc[0]['ClientDetails']['CBR'])"
   ]
  },
  {
   "cell_type": "code",
   "execution_count": 349,
   "metadata": {},
   "outputs": [],
   "source": [
    "cbr_Bal_drop = ['TradeDetails','Inquiries','CBScore', 'Bankruptcy','SecuredLoan','ProductHeader.ProductCode', 'TransactionControl.TransactionTime',\n",
    "       'TransactionControl.pyCountry', 'TransactionControl.LanguageInd',\n",
    "       'TransactionControl.IndustryCode', 'TransactionControl.BureauMarket',\n",
    "       'TransactionControl.ReferenceNum', 'TransactionControl.BureauSubmarket',\n",
    "       'TransactionControl.VersionSwitch', 'TransactionControl.MemberCode',\n",
    "       'TransactionControl.TransactionDate', 'CBRClientDetails.DateOfBirth',\n",
    "       'CBRClientDetails.pyNameSuffix', 'CBRClientDetails.pyFirstName',\n",
    "       'CBRClientDetails.Address', 'CBRClientDetails.pySSN',\n",
    "       'CBRClientDetails.SpouseInfo.pyFirstName',\n",
    "       'CBRClientDetails.SpouseInfo.pySSN', 'CBRClientDetails.MiddleName',\n",
    "       'CBRClientDetails.pyLastName', 'OtherSubjectInfo.EmploymentInfo']"
   ]
  },
  {
   "cell_type": "code",
   "execution_count": 350,
   "metadata": {},
   "outputs": [],
   "source": [
    "cbr_Bal = cbr_Bal_Full.drop(cbr_Bal_drop, axis = 1,errors='ignore')"
   ]
  },
  {
   "cell_type": "code",
   "execution_count": 376,
   "metadata": {},
   "outputs": [
    {
     "data": {
      "text/html": [
       "<div>\n",
       "<style scoped>\n",
       "    .dataframe tbody tr th:only-of-type {\n",
       "        vertical-align: middle;\n",
       "    }\n",
       "\n",
       "    .dataframe tbody tr th {\n",
       "        vertical-align: top;\n",
       "    }\n",
       "\n",
       "    .dataframe thead th {\n",
       "        text-align: right;\n",
       "    }\n",
       "</style>\n",
       "<table border=\"1\" class=\"dataframe\">\n",
       "  <thead>\n",
       "    <tr style=\"text-align: right;\">\n",
       "      <th></th>\n",
       "      <th>Product</th>\n",
       "    </tr>\n",
       "  </thead>\n",
       "  <tbody>\n",
       "    <tr>\n",
       "      <th>ECIF2106147717</th>\n",
       "      <td>NaN</td>\n",
       "    </tr>\n",
       "    <tr>\n",
       "      <th>PropID</th>\n",
       "      <td>500000000530297</td>\n",
       "    </tr>\n",
       "    <tr>\n",
       "      <th>ProductCodeType</th>\n",
       "      <td>VA</td>\n",
       "    </tr>\n",
       "    <tr>\n",
       "      <th>RPOCSequenceID</th>\n",
       "      <td>1</td>\n",
       "    </tr>\n",
       "    <tr>\n",
       "      <th>ProductCode</th>\n",
       "      <td>VWVA</td>\n",
       "    </tr>\n",
       "    <tr>\n",
       "      <th>IsPreApproved</th>\n",
       "      <td></td>\n",
       "    </tr>\n",
       "    <tr>\n",
       "      <th>StrategyID</th>\n",
       "      <td></td>\n",
       "    </tr>\n",
       "    <tr>\n",
       "      <th>CaseID</th>\n",
       "      <td>SO-20020680007</td>\n",
       "    </tr>\n",
       "    <tr>\n",
       "      <th>RequestedLimit</th>\n",
       "      <td>None</td>\n",
       "    </tr>\n",
       "    <tr>\n",
       "      <th>AlternativeFeeIndicator</th>\n",
       "      <td>N</td>\n",
       "    </tr>\n",
       "    <tr>\n",
       "      <th>ProductCodeInd</th>\n",
       "      <td>VW</td>\n",
       "    </tr>\n",
       "    <tr>\n",
       "      <th>CardsSrcCode</th>\n",
       "      <td>None</td>\n",
       "    </tr>\n",
       "    <tr>\n",
       "      <th>TreatmentID</th>\n",
       "      <td>1</td>\n",
       "    </tr>\n",
       "    <tr>\n",
       "      <th>VendorRefNo</th>\n",
       "      <td>610000000</td>\n",
       "    </tr>\n",
       "  </tbody>\n",
       "</table>\n",
       "</div>"
      ],
      "text/plain": [
       "                                 Product\n",
       "ECIF2106147717                       NaN\n",
       "PropID                   500000000530297\n",
       "ProductCodeType                       VA\n",
       "RPOCSequenceID                         1\n",
       "ProductCode                         VWVA\n",
       "IsPreApproved                           \n",
       "StrategyID                              \n",
       "CaseID                    SO-20020680007\n",
       "RequestedLimit                      None\n",
       "AlternativeFeeIndicator                N\n",
       "ProductCodeInd                        VW\n",
       "CardsSrcCode                        None\n",
       "TreatmentID                            1\n",
       "VendorRefNo                    610000000"
      ]
     },
     "execution_count": 376,
     "metadata": {},
     "output_type": "execute_result"
    }
   ],
   "source": [
    "prod"
   ]
  },
  {
   "cell_type": "code",
   "execution_count": 374,
   "metadata": {},
   "outputs": [
    {
     "data": {
      "text/html": [
       "<div>\n",
       "<style scoped>\n",
       "    .dataframe tbody tr th:only-of-type {\n",
       "        vertical-align: middle;\n",
       "    }\n",
       "\n",
       "    .dataframe tbody tr th {\n",
       "        vertical-align: top;\n",
       "    }\n",
       "\n",
       "    .dataframe thead th {\n",
       "        text-align: right;\n",
       "    }\n",
       "</style>\n",
       "<table border=\"1\" class=\"dataframe\">\n",
       "  <thead>\n",
       "    <tr style=\"text-align: right;\">\n",
       "      <th></th>\n",
       "      <th>Product</th>\n",
       "    </tr>\n",
       "  </thead>\n",
       "  <tbody>\n",
       "  </tbody>\n",
       "</table>\n",
       "</div>"
      ],
      "text/plain": [
       "Empty DataFrame\n",
       "Columns: [Product]\n",
       "Index: []"
      ]
     },
     "execution_count": 374,
     "metadata": {},
     "output_type": "execute_result"
    }
   ],
   "source": [
    "prod[7:8][1:2]"
   ]
  },
  {
   "cell_type": "code",
   "execution_count": 390,
   "metadata": {},
   "outputs": [],
   "source": [
    "caseid = prod.loc['CaseID'].tolist()[0]"
   ]
  },
  {
   "cell_type": "code",
   "execution_count": 391,
   "metadata": {},
   "outputs": [
    {
     "data": {
      "text/plain": [
       "'SO-20020680007'"
      ]
     },
     "execution_count": 391,
     "metadata": {},
     "output_type": "execute_result"
    }
   ],
   "source": [
    "caseid"
   ]
  },
  {
   "cell_type": "code",
   "execution_count": null,
   "metadata": {},
   "outputs": [],
   "source": []
  }
 ],
 "metadata": {
  "kernelspec": {
   "display_name": "Python 3",
   "language": "python",
   "name": "python3"
  },
  "language_info": {
   "codemirror_mode": {
    "name": "ipython",
    "version": 3
   },
   "file_extension": ".py",
   "mimetype": "text/x-python",
   "name": "python",
   "nbconvert_exporter": "python",
   "pygments_lexer": "ipython3",
   "version": "3.7.6"
  }
 },
 "nbformat": 4,
 "nbformat_minor": 4
}
