{
 "cells": [
  {
   "cell_type": "code",
   "execution_count": null,
   "metadata": {},
   "outputs": [],
   "source": [
    "pip install json\n",
    "pip install pandas"
   ]
  },
  {
   "cell_type": "code",
   "execution_count": 3,
   "metadata": {},
   "outputs": [],
   "source": [
    "import json\n",
    "import pandas as pd\n",
    "from pandas.io.json import json_normalizeaa"
   ]
  },
  {
   "cell_type": "code",
   "execution_count": 6,
   "metadata": {},
   "outputs": [],
   "source": [
    "data = json.load(open('jason_Cap.json'))\n",
    "df = pd.DataFrame(data)"
   ]
  },
  {
   "cell_type": "code",
   "execution_count": 23,
   "metadata": {},
   "outputs": [
    {
     "name": "stderr",
     "output_type": "stream",
     "text": [
      "C:\\Users\\sreek\\anaconda3\\lib\\site-packages\\ipykernel_launcher.py:1: FutureWarning: pandas.io.json.json_normalize is deprecated, use pandas.json_normalize instead\n",
      "  \"\"\"Entry point for launching an IPython kernel.\n"
     ]
    }
   ],
   "source": [
    "client =  json_normalize(df.iloc[0]['ClientDetails'])"
   ]
  },
  {
   "cell_type": "code",
   "execution_count": 8,
   "metadata": {},
   "outputs": [],
   "source": [
    "field_Main = ['ECIFID','TotalHHIncomeYrly','SaveAcctRef','TotalMthlyExpenses','TotalHHIncomeMthly','IncomeReviewIndicator','DateOfBirth','FirstServiceDate','OccCombCode','SpouseHHIncomeMthly','pySSN','IsSelfEmployed','Duration','TotalPerIncomeMthly','OtherIncome','CheqAcctRef','ResidentialStatus','TotalMthlyLiabAmt','ServicedByIndicator','pxSubscript','SpouseHHIncomeYrly']"
   ]
  },
  {
   "cell_type": "code",
   "execution_count": 83,
   "metadata": {},
   "outputs": [],
   "source": [
    "drop_final = ['Address','ChannelList','CNW.IncomeList', 'EnrichedData.UpdateDate', 'EnrichedData.PhoneNumber',\n",
    "       'EnrichedData.CustomerType', 'CBR.OutputFormatCode',\n",
    "       'CBR.DepositAlertFlag', 'CBR.SegmentID', 'CBR.DateReported',\n",
    "       'CBR.SafeScanCode2', 'CBR.TradeDetails', 'CBR.MonthsToCountMaxDel',\n",
    "       'CBR.Inquiries', 'CBR.InFileSince', 'CBR.CreditFileWarning',\n",
    "       'CBR.ConsumerReferralCode', 'CBR.SegmentCounters', 'CBR.CBScore',\n",
    "       'CBR.ProductHeader.ProductCode', 'CBR.LanguageInd',\n",
    "       'CBR.MonthsToCountInquiry', 'CBR.SafeScanCode', 'CBR.CBRProvider',\n",
    "       'CBR.TransactionControl.TransactionTime',\n",
    "       'CBR.TransactionControl.pyCountry',\n",
    "       'CBR.TransactionControl.LanguageInd',\n",
    "       'CBR.TransactionControl.IndustryCode',\n",
    "       'CBR.TransactionControl.BureauMarket',\n",
    "       'CBR.TransactionControl.ReferenceNum',\n",
    "       'CBR.TransactionControl.BureauSubmarket',\n",
    "       'CBR.TransactionControl.VersionSwitch',\n",
    "       'CBR.TransactionControl.MemberCode',\n",
    "       'CBR.TransactionControl.TransactionDate', 'CBR.MemberCode',\n",
    "       'CBR.Bankruptcy', 'CBR.NumOfDependents', 'CBR.ReferenceNumber',\n",
    "       'CBR.HitOrNoHit', 'CBR.CBRClientDetails.DateOfBirth',\n",
    "       'CBR.CBRClientDetails.pyNameSuffix', 'CBR.CBRClientDetails.pyFirstName',\n",
    "       'CBR.CBRClientDetails.Address', 'CBR.CBRClientDetails.pySSN',\n",
    "       'CBR.CBRClientDetails.SpouseInfo.pyFirstName',\n",
    "       'CBR.CBRClientDetails.SpouseInfo.pySSN',\n",
    "       'CBR.CBRClientDetails.MiddleName', 'CBR.CBRClientDetails.pyLastName',\n",
    "       'CBR.DateLastActivity', 'CBR.OtherSubjectInfo.EmploymentInfo',\n",
    "       'CBR.NumOfInquiries', 'CBR.MaritalStatus', 'CBR.ECOAInquiryType',\n",
    "       'CBR.RetrievalTimeStamp', 'CBR.SecuredLoan', 'CBR.MultipleFileInd',\n",
    "       'CBR.CardAlertFlag', 'AnalyticProfile.TotalNoRSMProdSvcs',\n",
    "       'AnalyticProfile.RBSSResponseCode', 'AnalyticProfile.PBISIndicator',\n",
    "       'AnalyticProfile.TRIScore', 'AnalyticProfile.VIPCCIndicator',\n",
    "       'AnalyticProfile.CustomerNet1stAccPeriod',\n",
    "       'AnalyticProfile.SecurityIndicator']"
   ]
  },
  {
   "cell_type": "code",
   "execution_count": 82,
   "metadata": {},
   "outputs": [],
   "source": [
    "final = client.drop(drop_final, axis = 1,errors='ignore')"
   ]
  },
  {
   "cell_type": "code",
   "execution_count": 45,
   "metadata": {},
   "outputs": [],
   "source": [
    "ecif = pd.json_normalize(data,'ClientDetails')"
   ]
  },
  {
   "cell_type": "code",
   "execution_count": 46,
   "metadata": {},
   "outputs": [],
   "source": [
    "ecif_num = ecif.values[0,0]"
   ]
  },
  {
   "cell_type": "code",
   "execution_count": 110,
   "metadata": {},
   "outputs": [],
   "source": [
    "prod = df[['Product']].drop([ecif_num])"
   ]
  },
  {
   "cell_type": "code",
   "execution_count": 48,
   "metadata": {},
   "outputs": [],
   "source": [
    "other = pd.DataFrame({'pyCreateDate':data['pyCreateDate'],'ChannelType':[data['ChannelType']]})\n"
   ]
  },
  {
   "cell_type": "code",
   "execution_count": 49,
   "metadata": {},
   "outputs": [],
   "source": [
    "address = pd.json_normalize(df.iloc[0]['ClientDetails']['Address'])"
   ]
  },
  {
   "cell_type": "code",
   "execution_count": 50,
   "metadata": {},
   "outputs": [],
   "source": [
    "cnw = pd.json_normalize(df.iloc[0]['ClientDetails']['CNW']['IncomeList'])"
   ]
  },
  {
   "cell_type": "code",
   "execution_count": 51,
   "metadata": {},
   "outputs": [],
   "source": [
    "EnrichedData = pd.json_normalize(df.iloc[0]['ClientDetails']['EnrichedData'])"
   ]
  },
  {
   "cell_type": "code",
   "execution_count": 52,
   "metadata": {},
   "outputs": [],
   "source": [
    "AnalyticProfile = pd.json_normalize(df.iloc[0]['ClientDetails']['AnalyticProfile'])"
   ]
  },
  {
   "cell_type": "code",
   "execution_count": 53,
   "metadata": {},
   "outputs": [],
   "source": [
    "ChannelList = pd.json_normalize(df.iloc[0]['ClientDetails']['ChannelList'])"
   ]
  },
  {
   "cell_type": "code",
   "execution_count": 63,
   "metadata": {},
   "outputs": [],
   "source": [
    "Trades = pd.json_normalize(df.iloc[0]['ClientDetails']['CBR']['TradeDetails'])"
   ]
  },
  {
   "cell_type": "code",
   "execution_count": 64,
   "metadata": {},
   "outputs": [],
   "source": [
    "Trades['RateCode']= Trades['RateCode'].apply(lambda x : x[0].values())"
   ]
  },
  {
   "cell_type": "code",
   "execution_count": 66,
   "metadata": {},
   "outputs": [],
   "source": [
    "inq = pd.json_normalize(df.iloc[0]['ClientDetails']['CBR']['Inquiries'])"
   ]
  },
  {
   "cell_type": "code",
   "execution_count": 74,
   "metadata": {},
   "outputs": [],
   "source": [
    "inq.rename(columns={\"pyID\": \"Inquiries.pyID\",\"NameOfMember\": \"Inquiries.NameOfMember\",\"SegmentID\": \"Inquiries.SegmentID\",\"DateOfInquiry\": \"Inquiries.DateOfInquiry\",\"MemberCode\": \"Inquiries.MemberCode\",\"Phone.Extension\": \"Inquiries.Phone.Extension\",\"Phone.AreaCode\": \"Inquiries.Phone.AreaCode\",\"Phone.PhoneNumber\": \"Inquiries.Phone.PhoneNumber\"},inplace =True )"
   ]
  },
  {
   "cell_type": "code",
   "execution_count": 85,
   "metadata": {},
   "outputs": [],
   "source": [
    "CBScore =  pd.json_normalize(df.iloc[0]['ClientDetails']['CBR']['CBScore'])"
   ]
  },
  {
   "cell_type": "code",
   "execution_count": 86,
   "metadata": {},
   "outputs": [],
   "source": [
    "CBScore['CBReasonCode'] = CBScore['CBReasonCode'].apply(lambda x : pd.json_normalize(x).ReasonCode.tolist())"
   ]
  },
  {
   "cell_type": "code",
   "execution_count": 89,
   "metadata": {},
   "outputs": [],
   "source": [
    "ProductHeader = pd.json_normalize(df.iloc[0]['ClientDetails']['CBR']['ProductHeader'])"
   ]
  },
  {
   "cell_type": "code",
   "execution_count": 91,
   "metadata": {},
   "outputs": [],
   "source": [
    "TransactionControl = pd.json_normalize(df.iloc[0]['ClientDetails']['CBR']['TransactionControl'])"
   ]
  },
  {
   "cell_type": "code",
   "execution_count": 94,
   "metadata": {},
   "outputs": [],
   "source": [
    "Bankruptcy = pd.json_normalize(df.iloc[0]['ClientDetails']['CBR']['Bankruptcy'])"
   ]
  },
  {
   "cell_type": "code",
   "execution_count": 97,
   "metadata": {},
   "outputs": [],
   "source": [
    "CBRClientDetails = pd.json_normalize(df.iloc[0]['ClientDetails']['CBR']['CBRClientDetails'])\n",
    "CBRClientDetails = CBRClientDetails.drop(['Address'],axis = 1,errors='ignore')\n",
    "CBRClientDetails_Add = pd.json_normalize(df.iloc[0]['ClientDetails']['CBR']['CBRClientDetails']['Address'])\n",
    "CBRClientDetails_Full = pd.concat([CBRClientDetails,CBRClientDetails_Add],axis=1, sort=False)"
   ]
  },
  {
   "cell_type": "code",
   "execution_count": 99,
   "metadata": {},
   "outputs": [],
   "source": [
    "OtherSubjectInfo  = pd.json_normalize(df.iloc[0]['ClientDetails']['CBR']['OtherSubjectInfo']['EmploymentInfo'])"
   ]
  },
  {
   "cell_type": "code",
   "execution_count": 103,
   "metadata": {},
   "outputs": [],
   "source": [
    "SecuredLoan = pd.json_normalize(df.iloc[0]['ClientDetails']['CBR']['SecuredLoan'])"
   ]
  },
  {
   "cell_type": "code",
   "execution_count": 105,
   "metadata": {},
   "outputs": [],
   "source": [
    "cbr_Bal_drop = ['TradeDetails','Inquiries','CBScore', 'Bankruptcy','SecuredLoan','ProductHeader.ProductCode', 'TransactionControl.TransactionTime',\n",
    "       'TransactionControl.pyCountry', 'TransactionControl.LanguageInd',\n",
    "       'TransactionControl.IndustryCode', 'TransactionControl.BureauMarket',\n",
    "       'TransactionControl.ReferenceNum', 'TransactionControl.BureauSubmarket',\n",
    "       'TransactionControl.VersionSwitch', 'TransactionControl.MemberCode',\n",
    "       'TransactionControl.TransactionDate', 'CBRClientDetails.DateOfBirth',\n",
    "       'CBRClientDetails.pyNameSuffix', 'CBRClientDetails.pyFirstName',\n",
    "       'CBRClientDetails.Address', 'CBRClientDetails.pySSN',\n",
    "       'CBRClientDetails.SpouseInfo.pyFirstName',\n",
    "       'CBRClientDetails.SpouseInfo.pySSN', 'CBRClientDetails.MiddleName',\n",
    "       'CBRClientDetails.pyLastName', 'OtherSubjectInfo.EmploymentInfo']"
   ]
  },
  {
   "cell_type": "code",
   "execution_count": 106,
   "metadata": {},
   "outputs": [],
   "source": [
    "cbr_Bal_Full  = pd.json_normalize(df.iloc[0]['ClientDetails']['CBR'])\n",
    "cbr_Bal = cbr_Bal_Full.drop(cbr_Bal_drop, axis = 1,errors='ignore')"
   ]
  },
  {
   "cell_type": "code",
   "execution_count": null,
   "metadata": {},
   "outputs": [],
   "source": []
  },
  {
   "cell_type": "code",
   "execution_count": null,
   "metadata": {},
   "outputs": [],
   "source": []
  },
  {
   "cell_type": "code",
   "execution_count": null,
   "metadata": {},
   "outputs": [],
   "source": []
  },
  {
   "cell_type": "code",
   "execution_count": null,
   "metadata": {},
   "outputs": [],
   "source": []
  },
  {
   "cell_type": "code",
   "execution_count": 107,
   "metadata": {},
   "outputs": [],
   "source": [
    "new_df = pd.concat([other,address, final,cnw,EnrichedData,AnalyticProfile,ChannelList,cbr_Bal,Trades,inq,CBScore,ProductHeader,\n",
    "                    TransactionControl,Bankruptcy,CBRClientDetails_Full,OtherSubjectInfo,SecuredLoan], \n",
    "                   axis=1, sort=False)"
   ]
  },
  {
   "cell_type": "code",
   "execution_count": 112,
   "metadata": {},
   "outputs": [],
   "source": [
    "caseid = prod.loc['CaseID'].tolist()[0]"
   ]
  },
  {
   "cell_type": "code",
   "execution_count": 114,
   "metadata": {},
   "outputs": [],
   "source": [
    "file_name = caseid+'.xlsx'"
   ]
  },
  {
   "cell_type": "code",
   "execution_count": 115,
   "metadata": {},
   "outputs": [],
   "source": [
    "with pd.ExcelWriter(file_name) as writer:  \n",
    "    new_df.to_excel(writer, sheet_name='applicent')\n",
    "    prod.to_excel(writer, sheet_name='product')"
   ]
  },
  {
   "cell_type": "code",
   "execution_count": null,
   "metadata": {},
   "outputs": [],
   "source": []
  }
 ],
 "metadata": {
  "kernelspec": {
   "display_name": "Python 3",
   "language": "python",
   "name": "python3"
  },
  "language_info": {
   "codemirror_mode": {
    "name": "ipython",
    "version": 3
   },
   "file_extension": ".py",
   "mimetype": "text/x-python",
   "name": "python",
   "nbconvert_exporter": "python",
   "pygments_lexer": "ipython3",
   "version": "3.7.6"
  }
 },
 "nbformat": 4,
 "nbformat_minor": 4
}
